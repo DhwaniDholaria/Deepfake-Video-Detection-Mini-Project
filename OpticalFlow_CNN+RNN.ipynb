{
  "nbformat": 4,
  "nbformat_minor": 0,
  "metadata": {
    "colab": {
      "name": "OpticalFlow_CNN+RNN.ipynb",
      "provenance": [],
      "collapsed_sections": [],
      "machine_shape": "hm"
    },
    "kernelspec": {
      "name": "python3",
      "display_name": "Python 3"
    },
    "language_info": {
      "name": "python"
    },
    "accelerator": "GPU"
  },
  "cells": [
    {
      "cell_type": "code",
      "metadata": {
        "colab": {
          "base_uri": "https://localhost:8080/"
        },
        "id": "asFr_CPuJwBI",
        "outputId": "af9e6f98-c78e-4f12-e464-faea04c5c679"
      },
      "source": [
        "#Mounting google drive\n",
        "from google.colab import drive\n",
        "drive.mount('/content/drive')"
      ],
      "execution_count": null,
      "outputs": [
        {
          "output_type": "stream",
          "name": "stdout",
          "text": [
            "Mounted at /content/drive\n"
          ]
        }
      ]
    },
    {
      "cell_type": "markdown",
      "metadata": {
        "id": "itXY9fyO2oLV"
      },
      "source": [
        "#Command to connect to local runtime\n",
        "jupyter notebook --NotebookApp.allow_origin='https://colab.research.google.com' --port=8888 --NotebookApp.port_retries=0"
      ]
    },
    {
      "cell_type": "code",
      "metadata": {
        "id": "vmTlp_jjUVwF",
        "colab": {
          "base_uri": "https://localhost:8080/"
        },
        "outputId": "605e0ee2-9ee3-4dd6-c33e-dd87990f6a19"
      },
      "source": [
        "pip install face_recognition"
      ],
      "execution_count": null,
      "outputs": [
        {
          "output_type": "stream",
          "name": "stdout",
          "text": [
            "Collecting face_recognition\n",
            "  Downloading face_recognition-1.3.0-py2.py3-none-any.whl (15 kB)\n",
            "Requirement already satisfied: numpy in /usr/local/lib/python3.7/dist-packages (from face_recognition) (1.19.5)\n",
            "Requirement already satisfied: dlib>=19.7 in /usr/local/lib/python3.7/dist-packages (from face_recognition) (19.18.0)\n",
            "Requirement already satisfied: Pillow in /usr/local/lib/python3.7/dist-packages (from face_recognition) (7.1.2)\n",
            "Collecting face-recognition-models>=0.3.0\n",
            "  Downloading face_recognition_models-0.3.0.tar.gz (100.1 MB)\n",
            "\u001b[K     |████████████████████████████████| 100.1 MB 1.1 MB/s \n",
            "\u001b[?25hRequirement already satisfied: Click>=6.0 in /usr/local/lib/python3.7/dist-packages (from face_recognition) (7.1.2)\n",
            "Building wheels for collected packages: face-recognition-models\n",
            "  Building wheel for face-recognition-models (setup.py) ... \u001b[?25l\u001b[?25hdone\n",
            "  Created wheel for face-recognition-models: filename=face_recognition_models-0.3.0-py2.py3-none-any.whl size=100566186 sha256=d3b860f91164e16a55ce3fc3b5d99b1ec0badcc877bf65a9fbe2360612bf9dda\n",
            "  Stored in directory: /root/.cache/pip/wheels/d6/81/3c/884bcd5e1c120ff548d57c2ecc9ebf3281c9a6f7c0e7e7947a\n",
            "Successfully built face-recognition-models\n",
            "Installing collected packages: face-recognition-models, face-recognition\n",
            "Successfully installed face-recognition-1.3.0 face-recognition-models-0.3.0\n"
          ]
        }
      ]
    },
    {
      "cell_type": "code",
      "source": [
        "import json\n",
        "import glob\n",
        "import numpy as np\n",
        "import cv2\n",
        "import copy\n",
        "import random\n",
        "import cv2 as cv\n",
        "from matplotlib import pyplot as plt\n",
        "import os\n",
        "import matplotlib.pyplot as plt\n",
        "import face_recognition\n",
        "import random\n",
        "import keras\n",
        "import math\n",
        "from keras.models import Sequential\n",
        "from keras.applications.vgg16 import VGG16\n",
        "from keras.layers import Dense, InputLayer, Dropout, Flatten\n",
        "from keras.layers import Conv2D, MaxPooling2D, GlobalMaxPooling2D\n",
        "from keras.preprocessing import image\n",
        "from keras.layers import LSTM\n",
        "from scipy import stats as s\n",
        "import pandas as pd\n",
        "from tqdm import tqdm\n",
        "from sklearn.model_selection import train_test_split\n",
        "from sklearn.metrics import accuracy_score\n",
        "from sklearn.metrics import precision_score\n",
        "from sklearn.metrics import recall_score\n",
        "from sklearn.metrics import f1_score\n",
        "from sklearn.metrics import roc_curve\n",
        "from sklearn.metrics import roc_auc_score"
      ],
      "metadata": {
        "id": "zDErLVYjXhDn"
      },
      "execution_count": null,
      "outputs": []
    },
    {
      "cell_type": "code",
      "metadata": {
        "colab": {
          "base_uri": "https://localhost:8080/"
        },
        "id": "pfb0J5_GUkj3",
        "outputId": "78ba975d-5a0b-4027-8c16-73502045e6b1"
      },
      "source": [
        "#Adding the datasets \n",
        "#Change the path to the specified datasets accordingly\n",
        "\n",
        "#DFDC Dataset \n",
        "#video_files = glob.glob('/content/drive/MyDrive/FinalDatasets/DFDC_FAKE_Face_only_data/*.mp4')\n",
        "#video_files += glob.glob('/content/drive/MyDrive/FinalDatasets/DFDC_REAL_Face_only_data/*.mp4')\n",
        "\n",
        "#Uncomment for Celeb DF dataset\n",
        "video_files = glob.glob('/content/drive/MyDrive/FinalDatasets/Celeb_fake_face_only/*.mp4')\n",
        "video_files += glob.glob('/content/drive/MyDrive/FinalDatasets/Celeb_real_face_only/*.mp4')\n",
        "\n",
        "#Uncomment for FaceForensics++ Dataset\n",
        "#video_files = glob.glob('/content/drive/MyDrive/FinalDatasets/FF_Face_only_data/*.mp4')\n",
        "\n",
        "random.shuffle(video_files)\n",
        "random.shuffle(video_files)\n",
        "frame_count = []\n",
        "\n",
        "#calculating the total videos in the complete dataset and average frames per video\n",
        "for video_file in video_files:\n",
        "  cap = cv2.VideoCapture(video_file)\n",
        "  if(int(cap.get(cv2.CAP_PROP_FRAME_COUNT))<148):\n",
        "    video_files.remove(video_file)\n",
        "    continue\n",
        "  frame_count.append(int(cap.get(cv2.CAP_PROP_FRAME_COUNT)))\n",
        "print(\"frames are \" , frame_count)\n",
        "print(\"Total no of video: \" , len(frame_count))\n",
        "print('Average frame per video:',np.mean(frame_count))"
      ],
      "execution_count": null,
      "outputs": [
        {
          "output_type": "stream",
          "name": "stdout",
          "text": [
            "frames are  [148, 148, 148, 148, 148, 148, 148, 148, 148, 148, 148, 148, 148, 148, 148, 148, 148, 148, 148, 148, 148, 148, 148, 148, 148, 148, 148, 148, 148, 148, 148, 148, 148, 148, 148, 148, 148, 148, 148, 148, 148, 148, 148, 148, 148, 148, 148, 148, 148, 148, 148, 148, 148, 148, 148, 148, 148, 148, 148, 148, 148, 148, 148, 148, 148, 148, 148, 148, 148, 148, 148, 148, 148, 148, 148, 148, 148, 148, 148, 148, 148, 148, 148, 148, 148, 148, 148, 148, 148, 148, 148, 148, 148, 148, 148, 148, 148, 148, 148, 148, 148, 148, 148, 148, 148, 148, 148, 148, 148, 148, 148, 148, 148, 148, 148, 148, 148, 148, 148, 148, 148, 148, 148, 148, 148, 148, 148, 148, 148, 148, 148, 148, 148, 148, 148, 148, 148, 148, 148, 148, 148, 148, 148, 148, 148, 148, 148, 148, 148, 148, 148, 148, 148, 148, 148, 148, 148, 148, 148, 148, 148, 148, 148, 148, 148, 148, 148, 148, 148, 148, 148, 148, 148, 148, 148, 148, 148, 148, 148, 148, 148, 148, 148, 148, 148, 148, 148, 148, 148, 148, 148, 148, 148, 148, 148, 148, 148, 148, 148, 148, 148, 148, 148, 148, 148, 148, 148, 148, 148, 148, 148, 148, 148, 148, 148, 148, 148, 148, 148, 148, 148, 148, 148, 148, 148, 148, 148, 148, 148, 148, 148, 148, 148, 148, 148, 148, 148, 148, 148, 148, 148, 148, 148, 148, 148, 148, 148, 148, 148, 148, 148, 148, 148, 148, 148, 148, 148, 148, 148, 148, 148, 148, 148, 148, 148, 148, 148, 148, 148, 148, 148, 148, 148, 148, 148, 148, 148, 148, 148, 148, 148, 148, 148, 148, 148, 148, 148, 148, 148, 148, 148, 148, 148, 148, 148, 148, 148, 148, 148, 148, 148, 148, 148, 148, 148, 148, 148, 148, 148, 148, 148, 148, 148, 148, 148, 148, 148, 148, 148, 148, 148, 148, 148, 148, 148, 148, 148, 148, 148, 148, 148, 148, 148, 148, 148, 148, 148, 148, 148, 148, 148, 148, 148, 148, 148, 148, 148, 148, 148, 148, 148, 148, 148, 148, 148, 148, 148, 148, 148, 148, 148, 148, 148, 148, 148, 148, 148, 148, 148, 148, 148, 148, 148, 148, 148, 148, 148, 148, 148, 148, 148, 148, 148, 148, 148, 148, 148, 148, 148, 148, 148, 148, 148, 148, 148, 148, 148, 148, 148, 148, 148, 148, 148, 148, 148, 148, 148, 148, 148, 148, 148, 148, 148, 148, 148, 148, 148, 148, 148, 148, 148, 148, 148, 148, 148, 148, 148, 148, 148, 148, 148, 148, 148, 148, 148, 148, 148, 148, 148, 148, 148, 148, 148, 148, 148, 148, 148, 148, 148, 148, 148, 148, 148, 148, 148, 148, 148, 148, 148, 148, 148, 148, 148, 148, 148, 148, 148, 148, 148, 148, 148, 148, 148, 148, 148, 148, 148, 148, 148, 148, 148, 148, 148, 148, 148, 148, 148, 148, 148, 148, 148, 148, 148, 148, 148, 148, 148, 148, 148, 148, 148, 148, 148, 148, 148, 148, 148, 148, 148, 148, 148, 148, 148, 148, 148, 148, 148, 148, 148, 148, 148, 148, 148, 148, 148, 148, 148, 148, 148, 148, 148, 148, 148, 148, 148, 148, 148, 148, 148, 148, 148, 148, 148, 148, 148, 148, 148, 148, 148, 148, 148, 148, 148, 148, 148, 148, 148, 148, 148, 148, 148, 148, 148, 148, 148, 148, 148, 148, 148, 148, 148, 148, 148, 148, 148, 148, 148, 148, 148, 148, 148, 148, 148, 148, 148, 148, 148, 148, 148, 148, 148, 148, 148, 148, 148, 148, 148, 148, 148, 148, 148, 148, 148, 148, 148, 148, 148, 148, 148, 148, 148, 148, 148, 148, 148, 148, 148, 148, 148, 148, 148, 148, 148, 148, 148, 148, 148, 148, 148, 148, 148, 148, 148, 148, 148, 148, 148, 148, 148, 148, 148, 148, 148, 148, 148, 148, 148, 148, 148, 148, 148, 148, 148, 148, 148, 148, 148, 148, 148, 148, 148, 148, 148, 148, 148, 148, 148, 148, 148, 148, 148, 148, 148, 148, 148, 148, 148, 148, 148, 148, 148, 148, 148, 148, 148, 148, 148, 148, 148, 148, 148, 148, 148, 148, 148, 148, 148, 148, 148, 148, 148, 148, 148, 148, 148, 148, 148, 148, 148, 148, 148, 148, 148, 148, 148, 148, 148, 148, 148, 148, 148, 148, 148, 148, 148, 148, 148, 148, 148, 148, 148, 148, 148, 148, 148, 148, 148, 148, 148, 148, 148, 148, 148, 148, 148, 148, 148, 148, 148, 148, 148, 148, 148, 148, 148, 148, 148, 148, 148, 148, 148, 148, 148, 148, 148, 148, 148, 148, 148, 148, 148, 148, 148, 148, 148, 148, 148, 148, 148, 148, 148, 148, 148, 148, 148, 148, 148, 148, 148, 148, 148, 148, 148, 148, 148, 148, 148, 148, 148, 148, 148, 148, 148, 148, 148, 148, 148, 148, 148, 148, 148, 148, 148, 148, 148, 148, 148, 148, 148, 148, 148, 148, 148, 148, 148, 148, 148, 148, 148, 148, 148, 148, 148, 148, 148, 148, 148, 148, 148, 148, 148, 148, 148, 148, 148, 148, 148, 148, 148, 148, 148, 148, 148, 148, 148, 148, 148, 148, 148, 148, 148, 148, 148, 148, 148, 148, 148, 148, 148, 148, 148, 148, 148, 148, 148, 148, 148, 148, 148, 148, 148, 148, 148, 148, 148, 148, 148, 148, 148, 148, 148, 148, 148, 148, 148, 148, 148, 148, 148, 148, 148, 148, 148, 148, 148, 148, 148, 148, 148, 148, 148, 148, 148, 148, 148, 148, 148, 148, 148, 148, 148, 148, 148, 148, 148, 148, 148, 148, 148, 148, 148, 148, 148, 148, 148, 148, 148, 148, 148, 148, 148, 148, 148, 148, 148, 148, 148, 148, 148, 148, 148, 148, 148, 148, 148, 148, 148, 148, 148, 148, 148, 148, 148, 148, 148, 148, 148, 148, 148, 148, 148, 148, 148, 148, 148, 148, 148, 148, 148, 148, 148, 148, 148, 148, 148, 148, 148, 148, 148, 148, 148, 148, 148, 148, 148, 148, 148, 148, 148, 148, 148, 148, 148, 148, 148, 148, 148, 148, 148, 148, 148, 148, 148, 148, 148, 148, 148, 148, 148, 148, 148, 148, 148, 148, 148, 148, 148, 148, 148, 148, 148, 148, 148, 148, 148, 148, 148, 148, 148, 148, 148, 148, 148, 148, 148, 148, 148, 148, 148, 148, 148, 148, 148, 148, 148, 148, 148, 148, 148, 148, 148, 148, 148, 148, 148, 148, 148, 148, 148, 148, 148, 148, 148, 148, 148, 148, 148, 148, 148, 148, 148, 148, 148, 148, 148, 148, 148, 148, 148, 148, 148, 148, 148, 148, 148, 148, 148, 148, 148, 148, 148, 148, 148, 148, 148, 148, 148, 148, 148, 148, 148, 148, 148, 148, 148, 148, 148, 148, 148, 148, 148, 148, 148, 148, 148, 148, 148, 148, 148, 148, 148, 148, 148, 148, 148, 148, 148, 148, 148, 148, 148, 148, 148, 148, 148, 148, 148, 148, 148, 148, 148, 148, 148, 148]\n",
            "Total no of video:  1154\n",
            "Average frame per video: 148.0\n"
          ]
        }
      ]
    },
    {
      "cell_type": "code",
      "metadata": {
        "id": "LrZXHDejUrCp"
      },
      "source": [
        "#Function to count the number of fake and real videos\n",
        "def number_of_real_and_fake_videos(data_list):\n",
        "  header_list = [\"file\",\"label\"]\n",
        "  #Change the path to Gobal_metadata.csv file accordingly\n",
        "  lab = pd.read_csv('/content/drive/MyDrive/Gobal_metadata.csv',names=header_list)\n",
        "  fake = 0\n",
        "  real = 0\n",
        "  for i in data_list:\n",
        "    temp_video = i.split('/')[-1]\n",
        "    label = lab.iloc[(labels.loc[labels[\"file\"] == temp_video].index.values[0]),1]\n",
        "    if(label == 'FAKE'):\n",
        "      fake+=1\n",
        "    if(label == 'REAL'):\n",
        "      real+=1\n",
        "  return real,fake"
      ],
      "execution_count": null,
      "outputs": []
    },
    {
      "cell_type": "code",
      "source": [
        "header_list = [\"file\",\"label\"]\n",
        "#Change the path to Gobal_metadata.csv file accordingly\n",
        "labels = pd.read_csv('/content/drive/MyDrive/Gobal_metadata.csv',names=header_list)\n",
        "\n",
        "#splitting the video_files into train_videos and valis_videos in 80:20 ratio\n",
        "train_videos = video_files[:int(0.8*len(video_files))]\n",
        "valid_videos = video_files[int(0.8*len(video_files)):]\n",
        "\n",
        "#Printing total number of videos in train and test videos\n",
        "print(\"TOTAL TRAIN VIDEOS : \" , len(train_videos))\n",
        "print(\"TOTAL TEST VIDEOS : \" , len(valid_videos))\n",
        "\n",
        "print(\"TRAIN: \", \"Real:\",number_of_real_and_fake_videos(train_videos)[0],\" Fake:\",number_of_real_and_fake_videos(train_videos)[1])\n",
        "print(\"TEST: \", \"Real:\",number_of_real_and_fake_videos(valid_videos)[0],\" Fake:\",number_of_real_and_fake_videos(valid_videos)[1])\n"
      ],
      "metadata": {
        "colab": {
          "base_uri": "https://localhost:8080/"
        },
        "id": "KCL7Ws-AiyEl",
        "outputId": "9fe1326c-c8e7-4220-ddc2-bb3a11aef35c"
      },
      "execution_count": null,
      "outputs": [
        {
          "output_type": "stream",
          "name": "stdout",
          "text": [
            "TOTAL TRAIN VIDEOS :  928\n",
            "TOTAL TEST VIDEOS :  233\n",
            "TRAIN:  Real: 474  Fake: 454\n",
            "TEST:  Real: 113  Fake: 120\n"
          ]
        }
      ]
    },
    {
      "cell_type": "code",
      "metadata": {
        "id": "sH02LJigXsRX"
      },
      "source": [
        "samples=[]\n",
        "label_lists=[] \n",
        "\n",
        "#Function to calculate Optical flow\n",
        "\n",
        "def get_opticalflow(file,frame_per_video) :\n",
        "  # The video feed is read in as a VideoCapture object\n",
        "  cap = cv.VideoCapture(file)\n",
        "\n",
        "  #splitting the file path to get the names of the videos\n",
        "  #change the split function according to your file path\n",
        "  temp_video = file.split('/')[-1]\n",
        "\n",
        "  #Change the path to Gobal_metadata.csv file accordingly\n",
        "  labels = pd.read_csv('/content/drive/MyDrive/Gobal_metadata.csv',names=header_list)\n",
        "\n",
        "  #getting the labels from Gobal_metadata.csv file\n",
        "  label = labels.iloc[(labels.loc[labels[\"file\"] == temp_video].index.values[0]),1]\n",
        "  if(label == 'FAKE'):\n",
        "    label = 0\n",
        "  if(label == 'REAL'):\n",
        "    label = 1\n",
        "  \n",
        "  # ret = a boolean return value from\n",
        "  # getting the frame, first_frame = the\n",
        "  # first frame in the entire video sequence\n",
        "  ret, first_frame = cap.read()\n",
        "\n",
        "  # Converts frame to grayscale because we\n",
        "  # only need the luminance channel for\n",
        "  # detecting edges - less computationally\n",
        "  # expensive\n",
        "  prev_gray = cv.cvtColor(first_frame, cv.COLOR_BGR2GRAY)\n",
        "\n",
        "  # Creates an image filled with zero\n",
        "  # intensities with the same dimensions\n",
        "  # as the frame\n",
        "  mask = np.zeros_like(first_frame)\n",
        "\n",
        "  #setting the frame count to 0\n",
        "  count=0\n",
        "  # Sets image saturation to maximum\n",
        "  mask[..., 1] = 255\n",
        "  \n",
        "  while(cap.isOpened()):\n",
        "\n",
        "    # ret = a boolean return value from getting\n",
        "    # the frame, frame = the current frame being\n",
        "    # projected in the video\n",
        "    ret, frame = cap.read()\n",
        "    \n",
        "    if ret==True :\n",
        "      #appending the labels of the frames\n",
        "      label_lists.append(label)\n",
        "      \n",
        "      # Converts each frame to grayscale - we previously\n",
        "      # only converted the first frame to grayscale\n",
        "      gray = cv.cvtColor(frame, cv.COLOR_BGR2GRAY)\n",
        "    \n",
        "      # Calculates dense optical flow by Farneback method\n",
        "      flow = cv.calcOpticalFlowFarneback(prev_gray, gray,\n",
        "                      None,\n",
        "                      0.5, 3, 15, 3, 5, 1.2, 0)\n",
        "    \n",
        "      # Computes the magnitude and angle of the 2D vectors\n",
        "      magnitude, angle = cv.cartToPolar(flow[..., 0], flow[..., 1])\n",
        "    \n",
        "      # Sets image hue according to the optical flow\n",
        "      # direction\n",
        "      mask[..., 0] = angle * 180 / np.pi / 2\n",
        "    \n",
        "      # Sets image value according to the optical flow\n",
        "      # magnitude (normalized)\n",
        "      mask[..., 2] = cv.normalize(magnitude, None, 0, 255, cv.NORM_MINMAX)\n",
        "    \n",
        "      # Converts HSV to RGB (BGR) color representation\n",
        "      rgb = cv.cvtColor(mask, cv.COLOR_HSV2BGR)\n",
        "    \n",
        "      #appending the rgb frames to samples\n",
        "      samples.append(rgb)\n",
        " \n",
        "      # Updates previous frame\n",
        "      prev_gray = gray\n",
        "\n",
        "    #updates the frame count\n",
        "    count=count+1\n",
        "    \n",
        "    #if the frame_count limit is reached the loop breaks and moves to next video\n",
        "    if count==frame_per_video:\n",
        "      break\n",
        "\n",
        "  # The following frees up resources and\n",
        "  # closes all windows\n",
        "  cap.release()\n",
        "  cv.destroyAllWindows()\n",
        "  "
      ],
      "execution_count": null,
      "outputs": []
    },
    {
      "cell_type": "code",
      "metadata": {
        "id": "01FSAMxcX1pr"
      },
      "source": [
        "#defining the number of frames to retrieve from each video\n",
        "frame_per_video=10\n",
        "\n",
        "#Generating the optical flow of the videos in train_videos\n",
        "for i in train_videos:\n",
        "  get_opticalflow(i,frame_per_video)\n",
        "\n",
        "#converting the samples(frames list) to numpy array\n",
        "x=np.array(samples) "
      ],
      "execution_count": null,
      "outputs": []
    },
    {
      "cell_type": "code",
      "metadata": {
        "id": "RBFa1Eve_Brk"
      },
      "source": [
        "y = label_lists\n",
        "\n",
        "#creating the training and validation set\n",
        "X_train, X_test, y_train, y_test = train_test_split(x, y, random_state=42, test_size=0.2, stratify = y)"
      ],
      "execution_count": null,
      "outputs": []
    },
    {
      "cell_type": "code",
      "metadata": {
        "id": "qzXXpagwd6YI",
        "colab": {
          "base_uri": "https://localhost:8080/"
        },
        "outputId": "8633b5fe-f825-4e42-8fca-25c85c5cd52d"
      },
      "source": [
        "#printing the shape of X_train\n",
        "print(X_train.shape)"
      ],
      "execution_count": null,
      "outputs": [
        {
          "output_type": "stream",
          "name": "stdout",
          "text": [
            "(7424, 112, 112, 3)\n"
          ]
        }
      ]
    },
    {
      "cell_type": "code",
      "metadata": {
        "id": "NEG9hlIQeO09"
      },
      "source": [
        "# creating dummies of target variable for train and validation set\n",
        "y_train = pd.get_dummies(y_train)\n",
        "y_test = pd.get_dummies(y_test)"
      ],
      "execution_count": null,
      "outputs": []
    },
    {
      "cell_type": "code",
      "metadata": {
        "id": "2MUDBKgjeYoX",
        "colab": {
          "base_uri": "https://localhost:8080/"
        },
        "outputId": "3d4e0a72-4311-45ad-b81c-70fe7d9cf200"
      },
      "source": [
        "# creating the base model of pre-trained VGG16 model\n",
        "from keras.applications.vgg16 import VGG16\n",
        "base_model = VGG16(weights='imagenet', include_top=False)"
      ],
      "execution_count": null,
      "outputs": [
        {
          "output_type": "stream",
          "name": "stdout",
          "text": [
            "Downloading data from https://storage.googleapis.com/tensorflow/keras-applications/vgg16/vgg16_weights_tf_dim_ordering_tf_kernels_notop.h5\n",
            "58892288/58889256 [==============================] - 0s 0us/step\n",
            "58900480/58889256 [==============================] - 0s 0us/step\n"
          ]
        }
      ]
    },
    {
      "cell_type": "code",
      "metadata": {
        "id": "OfFPBKbKe_hK"
      },
      "source": [
        "# extracting features for training frames\n",
        "X_train = base_model.predict(X_train)\n",
        "# extracting features for validation frames\n",
        "X_test = base_model.predict(X_test)"
      ],
      "execution_count": null,
      "outputs": []
    },
    {
      "cell_type": "code",
      "metadata": {
        "id": "INDBhHwFfhxY"
      },
      "source": [
        "# reshaping the training as well as validation frames in single dimension\n",
        "# change the shapes of X_train and X_test accordingly\n",
        "X_train = X_train.reshape(X_train.shape[0], 3*3*512)\n",
        "X_test = X_test.reshape(X_test.shape[0], 3*3*512)"
      ],
      "execution_count": null,
      "outputs": []
    },
    {
      "cell_type": "code",
      "metadata": {
        "id": "4UA2nvQYfsEa"
      },
      "source": [
        "# normalizing the pixel values\n",
        "max = X_train.max()\n",
        "X_train = X_train/max\n",
        "X_test = X_test/max"
      ],
      "execution_count": null,
      "outputs": []
    },
    {
      "cell_type": "code",
      "metadata": {
        "id": "bcUdS0_Xz5l-"
      },
      "source": [
        "X_train = X_train.reshape(len(X_train), 1, X_train.shape[1])\n",
        "X_test = X_test.reshape(len(X_test), 1, X_test.shape[1])\n",
        "y_train_new=y_train.to_numpy()\n",
        "y_test_new=y_test.to_numpy()\n",
        "y_test_new = y_test_new.reshape(len(y_test_new), 1, y_test_new.shape[1])\n",
        "y_train_new = y_train_new.reshape(len(y_train_new), 1, y_train_new.shape[1])"
      ],
      "execution_count": null,
      "outputs": []
    },
    {
      "cell_type": "code",
      "metadata": {
        "id": "et8h_Zfvfyty",
        "colab": {
          "base_uri": "https://localhost:8080/"
        },
        "outputId": "2c4714c4-713c-48e0-b4fd-243f0ed16fdd"
      },
      "source": [
        "#defining the model architecture\n",
        "model = Sequential()\n",
        "model.add(Dense(1024, activation='relu'))\n",
        "model.add(Dropout(0.5))\n",
        "model.add(Dense(512, activation='relu'))\n",
        "model.add(Dropout(0.5))\n",
        "model.add(Dense(256, activation='relu'))\n",
        "model.add(Dropout(0.5))\n",
        "model.add(Dense(128, activation='relu'))\n",
        "\n",
        "# Recurrent layer\n",
        "model.add(LSTM(128,input_shape=(X_train.shape[1:]), activation='relu', return_sequences=True))\n",
        "model.add(LSTM(128,input_shape=(X_train.shape[1:]), activation='relu', return_sequences=True))\n",
        "model.add(Dense(2, activation='softmax'))"
      ],
      "execution_count": null,
      "outputs": [
        {
          "output_type": "stream",
          "name": "stdout",
          "text": [
            "WARNING:tensorflow:Layer lstm will not use cuDNN kernels since it doesn't meet the criteria. It will use a generic GPU kernel as fallback when running on GPU.\n",
            "WARNING:tensorflow:Layer lstm_1 will not use cuDNN kernels since it doesn't meet the criteria. It will use a generic GPU kernel as fallback when running on GPU.\n"
          ]
        }
      ]
    },
    {
      "cell_type": "code",
      "metadata": {
        "id": "AnozyxvPf798"
      },
      "source": [
        "# defining a function to save the weights of best model\n",
        "from keras.callbacks import ModelCheckpoint\n",
        "mcp_save = ModelCheckpoint('weight.hdf5', save_best_only=True, monitor='val_loss', mode='min')"
      ],
      "execution_count": null,
      "outputs": []
    },
    {
      "cell_type": "code",
      "metadata": {
        "id": "f95MUwc4f_y9"
      },
      "source": [
        "# compiling the model\n",
        "model.compile(loss='categorical_crossentropy',optimizer='Adam',metrics=['accuracy'])"
      ],
      "execution_count": null,
      "outputs": []
    },
    {
      "cell_type": "code",
      "metadata": {
        "id": "3Fz79x-JgKeh",
        "colab": {
          "base_uri": "https://localhost:8080/"
        },
        "outputId": "b3db0356-ad21-49ab-fbfb-5b3b540617e2"
      },
      "source": [
        "# training the model\n",
        "model.fit(X_train, y_train_new, epochs=30, validation_data=(X_test, y_test_new), callbacks=[mcp_save], batch_size=128)"
      ],
      "execution_count": null,
      "outputs": [
        {
          "output_type": "stream",
          "name": "stdout",
          "text": [
            "Epoch 1/30\n",
            "58/58 [==============================] - 3s 22ms/step - loss: 0.6926 - accuracy: 0.5108 - val_loss: 0.6886 - val_accuracy: 0.5108\n",
            "Epoch 2/30\n",
            "58/58 [==============================] - 1s 11ms/step - loss: 0.6753 - accuracy: 0.5673 - val_loss: 0.6654 - val_accuracy: 0.5814\n",
            "Epoch 3/30\n",
            "58/58 [==============================] - 1s 11ms/step - loss: 0.6436 - accuracy: 0.6273 - val_loss: 0.6495 - val_accuracy: 0.6131\n",
            "Epoch 4/30\n",
            "58/58 [==============================] - 1s 11ms/step - loss: 0.6081 - accuracy: 0.6627 - val_loss: 0.6474 - val_accuracy: 0.6131\n",
            "Epoch 5/30\n",
            "58/58 [==============================] - 1s 9ms/step - loss: 0.5706 - accuracy: 0.6995 - val_loss: 0.6635 - val_accuracy: 0.6164\n",
            "Epoch 6/30\n",
            "58/58 [==============================] - 0s 9ms/step - loss: 0.5191 - accuracy: 0.7392 - val_loss: 0.6852 - val_accuracy: 0.6094\n",
            "Epoch 7/30\n",
            "58/58 [==============================] - 0s 8ms/step - loss: 0.4647 - accuracy: 0.7784 - val_loss: 0.7434 - val_accuracy: 0.6110\n",
            "Epoch 8/30\n",
            "58/58 [==============================] - 0s 8ms/step - loss: 0.3988 - accuracy: 0.8203 - val_loss: 0.7970 - val_accuracy: 0.6191\n",
            "Epoch 9/30\n",
            "58/58 [==============================] - 0s 8ms/step - loss: 0.3398 - accuracy: 0.8541 - val_loss: 0.9409 - val_accuracy: 0.6234\n",
            "Epoch 10/30\n",
            "58/58 [==============================] - 0s 8ms/step - loss: 0.2846 - accuracy: 0.8768 - val_loss: 0.9555 - val_accuracy: 0.6115\n",
            "Epoch 11/30\n",
            "58/58 [==============================] - 0s 8ms/step - loss: 0.2278 - accuracy: 0.9073 - val_loss: 1.0632 - val_accuracy: 0.6105\n",
            "Epoch 12/30\n",
            "58/58 [==============================] - 0s 8ms/step - loss: 0.1904 - accuracy: 0.9277 - val_loss: 1.0382 - val_accuracy: 0.6234\n",
            "Epoch 13/30\n",
            "58/58 [==============================] - 1s 9ms/step - loss: 0.1605 - accuracy: 0.9367 - val_loss: 1.2299 - val_accuracy: 0.6110\n",
            "Epoch 14/30\n",
            "58/58 [==============================] - 0s 9ms/step - loss: 0.1420 - accuracy: 0.9449 - val_loss: 1.4838 - val_accuracy: 0.6078\n",
            "Epoch 15/30\n",
            "58/58 [==============================] - 0s 8ms/step - loss: 0.1215 - accuracy: 0.9538 - val_loss: 1.1713 - val_accuracy: 0.6105\n",
            "Epoch 16/30\n",
            "58/58 [==============================] - 0s 8ms/step - loss: 0.1058 - accuracy: 0.9609 - val_loss: 1.6469 - val_accuracy: 0.6105\n",
            "Epoch 17/30\n",
            "58/58 [==============================] - 0s 8ms/step - loss: 0.1008 - accuracy: 0.9623 - val_loss: 1.5558 - val_accuracy: 0.5986\n",
            "Epoch 18/30\n",
            "58/58 [==============================] - 0s 8ms/step - loss: 0.0931 - accuracy: 0.9675 - val_loss: 1.5517 - val_accuracy: 0.6148\n",
            "Epoch 19/30\n",
            "58/58 [==============================] - 0s 8ms/step - loss: 0.0674 - accuracy: 0.9759 - val_loss: 1.7710 - val_accuracy: 0.6148\n",
            "Epoch 20/30\n",
            "58/58 [==============================] - 0s 8ms/step - loss: 0.0727 - accuracy: 0.9752 - val_loss: 1.6361 - val_accuracy: 0.6115\n",
            "Epoch 21/30\n",
            "58/58 [==============================] - 0s 8ms/step - loss: 0.0663 - accuracy: 0.9762 - val_loss: 1.6961 - val_accuracy: 0.6115\n",
            "Epoch 22/30\n",
            "58/58 [==============================] - 0s 8ms/step - loss: 0.0601 - accuracy: 0.9764 - val_loss: 1.9484 - val_accuracy: 0.6142\n",
            "Epoch 23/30\n",
            "58/58 [==============================] - 0s 8ms/step - loss: 0.0607 - accuracy: 0.9776 - val_loss: 1.7682 - val_accuracy: 0.6158\n",
            "Epoch 24/30\n",
            "58/58 [==============================] - 0s 8ms/step - loss: 0.0473 - accuracy: 0.9841 - val_loss: 1.9845 - val_accuracy: 0.6137\n",
            "Epoch 25/30\n",
            "58/58 [==============================] - 0s 8ms/step - loss: 0.0573 - accuracy: 0.9795 - val_loss: 1.6231 - val_accuracy: 0.6131\n",
            "Epoch 26/30\n",
            "58/58 [==============================] - 0s 8ms/step - loss: 0.0464 - accuracy: 0.9832 - val_loss: 2.0898 - val_accuracy: 0.6040\n",
            "Epoch 27/30\n",
            "58/58 [==============================] - 0s 8ms/step - loss: 0.0373 - accuracy: 0.9861 - val_loss: 1.9083 - val_accuracy: 0.6110\n",
            "Epoch 28/30\n",
            "58/58 [==============================] - 0s 8ms/step - loss: 0.0471 - accuracy: 0.9830 - val_loss: 2.1342 - val_accuracy: 0.6083\n",
            "Epoch 29/30\n",
            "58/58 [==============================] - 0s 8ms/step - loss: 0.0475 - accuracy: 0.9830 - val_loss: 1.8288 - val_accuracy: 0.6158\n",
            "Epoch 30/30\n",
            "58/58 [==============================] - 0s 8ms/step - loss: 0.0381 - accuracy: 0.9863 - val_loss: 2.3535 - val_accuracy: 0.6164\n"
          ]
        },
        {
          "output_type": "execute_result",
          "data": {
            "text/plain": [
              "<keras.callbacks.History at 0x7f6b32352c10>"
            ]
          },
          "metadata": {},
          "execution_count": 22
        }
      ]
    },
    {
      "cell_type": "markdown",
      "metadata": {
        "id": "rDCTKdz8AzvC"
      },
      "source": [
        "Evaluating our Model"
      ]
    },
    {
      "cell_type": "code",
      "metadata": {
        "id": "N-QNh4LuhuIm"
      },
      "source": [
        "# loading the trained weights \n",
        "#Enter the path accordingly\n",
        "model.load_weights(\"weight.hdf5\")"
      ],
      "execution_count": null,
      "outputs": []
    },
    {
      "cell_type": "code",
      "metadata": {
        "id": "SrjW_sbdhzYJ"
      },
      "source": [
        "# compiling the model\n",
        "model.compile(loss='categorical_crossentropy',optimizer='Adam',metrics=['accuracy'])"
      ],
      "execution_count": null,
      "outputs": []
    },
    {
      "cell_type": "code",
      "source": [
        "#valid_label.clear\n",
        "#del df\n",
        "#del y"
      ],
      "metadata": {
        "id": "aaf1r0dHB1Rh"
      },
      "execution_count": null,
      "outputs": []
    },
    {
      "cell_type": "code",
      "metadata": {
        "id": "L3PFQUIO_q_H"
      },
      "source": [
        "# creating dataframe for actual labels of the valid_videos\n",
        "valid_label =[]\n",
        "\n",
        "for video_file in valid_videos :\n",
        "    count = 0\n",
        "    videoFile = video_file\n",
        "    cap = cv2.VideoCapture(video_file)   # capturing the video from the given path\n",
        "\n",
        "    # Splitting the file path of videos to get their names \n",
        "    #can be changed accordingly\n",
        "    temp_video = video_file.split('/')[-1] \n",
        "\n",
        "    # Change the path to Gobal_metadata.csv accordingly\n",
        "    labels = pd.read_csv('/content/drive/MyDrive/Gobal_metadata.csv',names=header_list)\n",
        "    label = labels.iloc[(labels.loc[labels[\"file\"] == temp_video].index.values[0]),1]\n",
        "    if(label == 'FAKE'):\n",
        "      label = 0\n",
        "    if(label == 'REAL'):\n",
        "      label = 1\n",
        "    label_str = str(label)\n",
        "    valid_label.append(label_str)\n",
        "            \n",
        "df = pd.DataFrame(valid_label)\n",
        "y = pd.get_dummies(df)"
      ],
      "execution_count": null,
      "outputs": []
    },
    {
      "cell_type": "markdown",
      "metadata": {
        "id": "UYZahHf0Cep5"
      },
      "source": [
        "While re-running the code, execute predit.clear to clear the list of previously predicted labels"
      ]
    },
    {
      "cell_type": "code",
      "metadata": {
        "id": "UQaT8hszh4do"
      },
      "source": [
        "predict=[]\n",
        "\n",
        "def predicting(file,frame_per_video) :\n",
        "  prediction_images=[]\n",
        "  count=0 \n",
        "  # The video feed is read in as\n",
        "  # a VideoCapture object\n",
        "  cap = cv.VideoCapture(file)\n",
        "  \n",
        "  # ret = a boolean return value from\n",
        "  # getting the frame, first_frame = the\n",
        "  # first frame in the entire video sequence\n",
        "  ret, first_frame = cap.read()\n",
        "\n",
        "  # Converts frame to grayscale because we\n",
        "  # only need the luminance channel for\n",
        "  # detecting edges - less computationally\n",
        "  # expensive\n",
        "  prev_gray = cv.cvtColor(first_frame, cv.COLOR_BGR2GRAY)\n",
        "\n",
        "  # Creates an image filled with zero\n",
        "  # intensities with the same dimensions\n",
        "  # as the frame\n",
        "  mask = np.zeros_like(first_frame)\n",
        "  \n",
        "  # Sets image saturation to maximum\n",
        "  mask[..., 1] = 255\n",
        "  \n",
        "  while(cap.isOpened()):\n",
        "    \n",
        "    # ret = a boolean return value from getting\n",
        "    # the frame, frame = the current frame being\n",
        "    # projected in the video\n",
        "    ret, frame = cap.read()\n",
        "    \n",
        "    \n",
        "    if ret==True :\n",
        "      # Converts each frame to grayscale - we previously\n",
        "      # only converted the first frame to grayscale\n",
        "      gray = cv.cvtColor(frame, cv.COLOR_BGR2GRAY)\n",
        "    \n",
        "      # Calculates dense optical flow by Farneback method\n",
        "      flow = cv.calcOpticalFlowFarneback(prev_gray, gray,\n",
        "                      None,\n",
        "                      0.5, 3, 15, 3, 5, 1.2, 0)\n",
        "    \n",
        "      # Computes the magnitude and angle of the 2D vectors\n",
        "      magnitude, angle = cv.cartToPolar(flow[..., 0], flow[..., 1])\n",
        "    \n",
        "      # Sets image hue according to the optical flow\n",
        "      # direction\n",
        "      mask[..., 0] = angle * 180 / np.pi / 2\n",
        "    \n",
        "      # Sets image value according to the optical flow\n",
        "      # magnitude (normalized)\n",
        "      mask[..., 2] = cv.normalize(magnitude, None, 0, 255, cv.NORM_MINMAX)\n",
        "    \n",
        "      # Converts HSV to RGB (BGR) color representation\n",
        "      rgb = cv.cvtColor(mask, cv.COLOR_HSV2BGR)\n",
        "    \n",
        "      #appending the rgb images \n",
        "      prediction_images.append(rgb)\n",
        "    \n",
        "      # Updates previous frame\n",
        "      prev_gray = gray\n",
        "    count=count+1\n",
        "    # Frames are read by intervals of 1 millisecond. The\n",
        "    # programs breaks out of the while loop when the\n",
        "    # user presses the 'q' key\n",
        "    if count==frame_per_video:\n",
        "      break\n",
        "\n",
        "  # The following frees up resources and closes all windows\n",
        "  cap.release()\n",
        "  cv.destroyAllWindows()\n",
        "  # converting all the frames for a test video into numpy array\n",
        "  prediction_images = np.array(prediction_images)\n",
        "\n",
        "  # extracting features using pre-trained model\n",
        "  prediction_images = base_model.predict(prediction_images)\n",
        " \n",
        "  # converting features in one dimensional array\n",
        "  prediction_images = prediction_images.reshape(prediction_images.shape[0], 3*3*512)\n",
        "\n",
        "  prediction_images = prediction_images.reshape(len(prediction_images), 1, prediction_images.shape[1])\n",
        "\n",
        "  # predicting tags for each array\n",
        "  prediction = np.argmax(model.predict(prediction_images),axis=-1)\n",
        "\n",
        "  prediction_new= pd.DataFrame(prediction)\n",
        "  g = s.mode(prediction_new)[0][0]\n",
        "  k=g[0]\n",
        "  # appending the mode of predictions in predict list to assign the tag to the video\n",
        "  predict.append(y.columns.values[k].split('_')[-1])\n",
        "  \n",
        "  "
      ],
      "execution_count": null,
      "outputs": []
    },
    {
      "cell_type": "code",
      "source": [
        "predict.clear"
      ],
      "metadata": {
        "colab": {
          "base_uri": "https://localhost:8080/"
        },
        "id": "aDgCtYCilSfZ",
        "outputId": "79df988a-9911-46e9-b858-022d1f7cb1aa"
      },
      "execution_count": null,
      "outputs": [
        {
          "output_type": "execute_result",
          "data": {
            "text/plain": [
              "<function list.clear>"
            ]
          },
          "metadata": {},
          "execution_count": 30
        }
      ]
    },
    {
      "cell_type": "code",
      "metadata": {
        "id": "DyS9oKGDTWbx"
      },
      "source": [
        "#predicting the videos over the trained model\n",
        "for i in valid_videos :\n",
        "  predicting(i,frame_per_video)"
      ],
      "execution_count": null,
      "outputs": []
    },
    {
      "cell_type": "code",
      "metadata": {
        "id": "vLpAQ2lqIq7h",
        "colab": {
          "base_uri": "https://localhost:8080/"
        },
        "outputId": "4b69962a-b46b-4158-8377-4d3ca0aa90d4"
      },
      "source": [
        "accuracy_metric=accuracy_score(predict, valid_label)\n",
        "print(\"Accuracy score : \", accuracy_metric*100)\n",
        "\n",
        "precision_metric=precision_score(valid_label, predict, average = \"macro\")\n",
        "print(\"Precision score : \", precision_metric*100)\n",
        "\n",
        "recall_metric = recall_score(valid_label, predict, average = \"macro\")\n",
        "print(\"Recall score : \",recall_metric*100)\n",
        "\n",
        "\n",
        "f1_metric = f1_score(valid_label, predict, average = \"macro\")\n",
        "print(\"F1 score : \", f1_metric*100)\n",
        "\n",
        "# calculate roc curve\n",
        "#fpr, tpr, thresholds = roc_curve(valid_label, predict)\n",
        "# calculate AUC\n",
        "auc = roc_auc_score(valid_label, predict)\n",
        "print(\"ROC AUC score : \",auc)"
      ],
      "execution_count": null,
      "outputs": [
        {
          "output_type": "stream",
          "name": "stdout",
          "text": [
            "Accuracy score :  62.66094420600859\n",
            "Precision score :  62.86901053256193\n",
            "Recall score :  62.79498525073747\n",
            "F1 score :  62.636167585202664\n",
            "ROC AUC score :  0.6279498525073747\n"
          ]
        },
        {
          "output_type": "stream",
          "name": "stderr",
          "text": [
            "/usr/local/lib/python3.7/dist-packages/sklearn/metrics/_ranking.py:546: FutureWarning: Arrays of bytes/strings is being converted to decimal numbers if dtype='numeric'. This behavior is deprecated in 0.24 and will be removed in 1.1 (renaming of 0.26). Please convert your data to numeric values explicitly instead.\n",
            "  y_score = check_array(y_score, ensure_2d=False)\n"
          ]
        }
      ]
    },
    {
      "cell_type": "code",
      "source": [
        "valid_label = [int(i) for i in valid_label]\n",
        "predict = [int(i) for i in predict]"
      ],
      "metadata": {
        "id": "YMim1lauOy6P"
      },
      "execution_count": null,
      "outputs": []
    },
    {
      "cell_type": "code",
      "source": [
        "lr_fpr, lr_tpr, _ = roc_curve(valid_label, predict)\n",
        "plt.subplots(1, figsize=(6,6))\n",
        "plt.title('ROC curve of the model')\n",
        "plt.plot(lr_fpr, lr_tpr, color=\"#db7807\")\n",
        "plt.plot([0, 1], ls=\"--\", color=\"orange\")\n",
        "plt.plot([0, 0], [1, 0] , c=\".7\"), plt.plot([1, 1] , c=\".7\")\n",
        "plt.ylabel('True Positive Rate')\n",
        "plt.xlabel('False Positive Rate')\n",
        "plt.show()"
      ],
      "metadata": {
        "colab": {
          "base_uri": "https://localhost:8080/",
          "height": 404
        },
        "id": "sw7oSUXTTark",
        "outputId": "d58ae049-25ac-4c07-cd76-535c551b7be7"
      },
      "execution_count": null,
      "outputs": [
        {
          "output_type": "display_data",
          "data": {
            "image/png": "[encoded data removed]",
            "text/plain": [
              "<Figure size 432x432 with 1 Axes>"
            ]
          },
          "metadata": {
            "needs_background": "light"
          }
        }
      ]
    }
  ]
}