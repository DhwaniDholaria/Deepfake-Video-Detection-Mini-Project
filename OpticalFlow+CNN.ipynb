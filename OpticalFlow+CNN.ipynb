{
  "cells": [
    {
      "cell_type": "markdown",
      "metadata": {
        "id": "EfLNA7Pn3fXQ"
      },
      "source": [
        "Link for the pre-processed Datasets:\n",
        "\n",
        "[Celeb-DF Fake processed videos](https://drive.google.com/drive/folders/1SxCb_Wr7N4Wsc-uvjUl0i-6PpwYmwN65)\n",
        "\n",
        "[Celeb-DF Real processed videos](https://drive.google.com/drive/folders/1g97v9JoD3pCKA2TxHe8ZLRe4buX2siCQ)\n",
        "\n",
        "[FaceForensics++ Real and fake processed videos](https://drive.google.com/drive/folders/1VIIWRLs6VBXRYKODgeOU7i6votLPPxT0)\n",
        "\n",
        "[DFDC Fake processed videos](https://drive.google.com/drive/folders/1yz3DBeFJvZ_QzWsyY7EwBNm7fx4MiOfF)\n",
        "\n",
        "[DFDC Real processed videos](https://drive.google.com/drive/folders/1wN3ZOd0WihthEeH__Lmj_ENhoXJN6U11)\n"
      ]
    },
    {
      "cell_type": "code",
      "execution_count": 1,
      "metadata": {
        "colab": {
          "base_uri": "https://localhost:8080/"
        },
        "id": "asFr_CPuJwBI",
        "outputId": "6323610b-94a6-47b8-c945-66922aa36dd9"
      },
      "outputs": [
        {
          "output_type": "stream",
          "name": "stdout",
          "text": [
            "Mounted at /content/drive\n"
          ]
        }
      ],
      "source": [
        "from google.colab import drive\n",
        "drive.mount('/content/drive')"
      ]
    },
    {
      "cell_type": "markdown",
      "metadata": {
        "id": "itXY9fyO2oLV"
      },
      "source": [
        "#Command to connect to local runtime\n",
        "jupyter notebook --NotebookApp.allow_origin='https://colab.research.google.com' --port=8888 --NotebookApp.port_retries=0"
      ]
    },
    {
      "cell_type": "code",
      "execution_count": 3,
      "metadata": {
        "colab": {
          "base_uri": "https://localhost:8080/"
        },
        "id": "vmTlp_jjUVwF",
        "outputId": "b98c3073-b7cd-4896-c5f1-ae6be7edff6a"
      },
      "outputs": [
        {
          "output_type": "stream",
          "name": "stdout",
          "text": [
            "Collecting face_recognition\n",
            "  Downloading face_recognition-1.3.0-py2.py3-none-any.whl (15 kB)\n",
            "Collecting face-recognition-models>=0.3.0\n",
            "  Downloading face_recognition_models-0.3.0.tar.gz (100.1 MB)\n",
            "\u001b[K     |████████████████████████████████| 100.1 MB 1.3 MB/s \n",
            "\u001b[?25hRequirement already satisfied: numpy in /usr/local/lib/python3.7/dist-packages (from face_recognition) (1.19.5)\n",
            "Requirement already satisfied: dlib>=19.7 in /usr/local/lib/python3.7/dist-packages (from face_recognition) (19.18.0)\n",
            "Requirement already satisfied: Click>=6.0 in /usr/local/lib/python3.7/dist-packages (from face_recognition) (7.1.2)\n",
            "Requirement already satisfied: Pillow in /usr/local/lib/python3.7/dist-packages (from face_recognition) (7.1.2)\n",
            "Building wheels for collected packages: face-recognition-models\n",
            "  Building wheel for face-recognition-models (setup.py) ... \u001b[?25l\u001b[?25hdone\n",
            "  Created wheel for face-recognition-models: filename=face_recognition_models-0.3.0-py2.py3-none-any.whl size=100566186 sha256=6d3bd2e1969411d52bc5d1b67664dd23b98dcca86d6a0d9ee8d70972a4010eed\n",
            "  Stored in directory: /root/.cache/pip/wheels/d6/81/3c/884bcd5e1c120ff548d57c2ecc9ebf3281c9a6f7c0e7e7947a\n",
            "Successfully built face-recognition-models\n",
            "Installing collected packages: face-recognition-models, face-recognition\n",
            "Successfully installed face-recognition-1.3.0 face-recognition-models-0.3.0\n"
          ]
        }
      ],
      "source": [
        "pip install face_recognition"
      ]
    },
    {
      "cell_type": "code",
      "source": [
        "import json\n",
        "import glob\n",
        "import numpy as np\n",
        "import cv2\n",
        "import copy\n",
        "import random\n",
        "import cv2 as cv\n",
        "from matplotlib import pyplot as plt\n",
        "import os\n",
        "import matplotlib.pyplot as plt\n",
        "import face_recognition\n",
        "import random\n",
        "import keras\n",
        "import math\n",
        "from keras.models import Sequential\n",
        "from keras.applications.vgg16 import VGG16\n",
        "from keras.layers import Dense, InputLayer, Dropout, Flatten\n",
        "from keras.layers import Conv2D, MaxPooling2D, GlobalMaxPooling2D\n",
        "from keras.preprocessing import image\n",
        "from keras.layers import LSTM\n",
        "from scipy import stats as s\n",
        "import pandas as pd\n",
        "from tqdm import tqdm\n",
        "from sklearn.model_selection import train_test_split\n",
        "from sklearn.metrics import accuracy_score\n",
        "from sklearn.metrics import precision_score\n",
        "from sklearn.metrics import recall_score\n",
        "from sklearn.metrics import f1_score\n",
        "from sklearn.metrics import roc_curve\n",
        "from sklearn.metrics import roc_auc_score"
      ],
      "metadata": {
        "id": "Lk2_-8KFquEF"
      },
      "execution_count": 1,
      "outputs": []
    },
    {
      "cell_type": "code",
      "execution_count": 2,
      "metadata": {
        "colab": {
          "base_uri": "https://localhost:8080/"
        },
        "id": "pfb0J5_GUkj3",
        "outputId": "6a242785-2a39-48f1-9df9-ceca2f95491d"
      },
      "outputs": [
        {
          "output_type": "stream",
          "name": "stdout",
          "text": [
            "frames are  [148, 148, 148, 148, 148, 148, 148, 148, 148, 148, 148, 148, 148, 148, 148, 148, 148, 148, 148, 148, 148, 148, 148, 148, 148, 148, 148, 148, 148, 148, 148, 148, 148, 148, 148, 148, 148, 148, 148, 148, 148, 148, 148, 148, 148, 148, 148, 148, 148, 148, 148, 148, 148, 148, 148, 148, 148, 148, 148, 148, 148, 148, 148, 148, 148, 148, 148, 148, 148, 148, 148, 148, 148, 148, 148, 148, 148, 148, 148, 148, 148, 148, 148, 148, 148, 148, 148, 148, 148, 148, 148, 148, 148, 148, 148, 148, 148, 148, 148, 148, 148, 148, 148, 148, 148, 148, 148, 148, 148, 148, 148, 148, 148, 148, 148, 148, 148, 148, 148, 148, 148, 148, 148, 148, 148, 148, 148, 148, 148, 148, 148, 148, 148, 148, 148, 148, 148, 148, 148, 148, 148, 148, 148, 148, 148, 148, 148, 148, 148, 148, 148, 148, 148, 148, 148, 148, 148, 148, 148, 148, 148, 148, 148, 148, 148, 148, 148, 148, 148, 148, 148, 148, 148, 148, 148, 148, 148, 148, 148, 148, 148, 148, 148, 148, 148, 148, 148, 148, 148, 148, 148, 148, 148, 148, 148, 148, 148, 148, 148, 148, 148, 148, 148, 148, 148, 148, 148, 148, 148, 148, 148, 148, 148, 148, 148, 148, 148, 148, 148, 148, 148, 148, 148, 148, 148, 148, 148, 148, 148, 148, 148, 148, 148, 148, 148, 148, 148, 148, 148, 148, 148, 148, 148, 148, 148, 148, 148, 148, 148, 148, 148, 148, 148, 148, 148, 148, 148, 148, 148, 148, 148, 148, 148, 148, 148, 148, 148, 148, 148, 148, 148, 148, 148, 148, 148, 148, 148, 148, 148, 148, 148, 148, 148, 148, 148, 148, 148, 148, 148, 148, 148, 148, 148, 148, 148, 148, 148, 148, 148, 148, 148, 148, 148, 148, 148, 148, 148, 148, 148, 148, 148, 148, 148, 148, 148, 148, 148, 148, 148, 148, 148, 148, 148, 148, 148, 148, 148, 148, 148, 148, 148, 148, 148, 148, 148, 148, 148, 148, 148, 148, 148, 148, 148, 148, 148, 148, 148, 148, 148, 148, 148, 148, 148, 148, 148, 148, 148, 148, 148, 148, 148, 148, 148, 148, 148, 148, 148, 148, 148, 148, 148, 148, 148, 148, 148, 148, 148, 148, 148, 148, 148, 148, 148, 148, 148, 148, 148, 148, 148, 148, 148, 148, 148, 148, 148, 148, 148, 148, 148, 148, 148, 148, 148, 148, 148, 148, 148, 148, 148, 148, 148, 148, 148, 148, 148, 148, 148, 148, 148, 148, 148, 148, 148, 148, 148, 148, 148, 148, 148, 148, 148, 148, 148, 148, 148, 148, 148, 148, 148, 148, 148, 148, 148, 148, 148, 148, 148, 148, 148, 148, 148, 148, 148, 148, 148, 148, 148, 148, 148, 148, 148, 148, 148, 148, 148, 148, 148, 148, 148, 148, 148, 148, 148, 148, 148, 148, 148, 148, 148, 148, 148, 148, 148, 148, 148, 148, 148, 148, 148, 148, 148, 148, 148, 148, 148, 148, 148, 148, 148, 148, 148, 148, 148, 148, 148, 148, 148, 148, 148, 148, 148, 148, 148, 148, 148, 148, 148, 148, 148, 148, 148, 148, 148, 148, 148, 148, 148, 148, 148, 148, 148, 148, 148, 148, 148, 148, 148, 148, 148, 148, 148, 148, 148, 148, 148, 148, 148, 148, 148, 148, 148, 148, 148, 148, 148, 148, 148, 148, 148, 148, 148, 148, 148, 148, 148, 148, 148, 148, 148, 148, 148, 148, 148, 148, 148, 148, 148, 148, 148, 148, 148, 148, 148, 148, 148, 148, 148, 148, 148, 148, 148, 148, 148, 148, 148, 148, 148, 148, 148, 148, 148, 148, 148, 148, 148, 148, 148, 148, 148, 148, 148, 148, 148, 148, 148, 148, 148, 148, 148, 148, 148, 148, 148, 148, 148, 148, 148, 148, 148, 148, 148, 148, 148, 148, 148, 148, 148, 148, 148, 148, 148, 148, 148, 148, 148, 148, 148, 148, 148, 148, 148, 148, 148, 148, 148, 148, 148, 148, 148, 148, 148, 148, 148, 148, 148, 148, 148, 148, 148, 148, 148, 148, 148, 148, 148, 148, 148, 148, 148, 148, 148, 148, 148, 148, 148, 148, 148, 148, 148, 148, 148, 148, 148, 148, 148, 148, 148, 148, 148, 148, 148, 148, 148, 148, 148, 148, 148, 148, 148, 148, 148, 148, 148, 148, 148, 148, 148, 148, 148, 148, 148, 148, 148, 148, 148, 148, 148, 148, 148, 148, 148, 148, 148, 148, 148, 148, 148, 148, 148, 148, 148, 148, 148, 148, 148, 148, 148, 148, 148, 148, 148, 148, 148, 148, 148, 148, 148, 148, 148, 148, 148, 148, 148, 148, 148, 148, 148, 148, 148, 148, 148, 148, 148, 148, 148, 148, 148, 148, 148, 148, 148, 148, 148, 148, 148, 148, 148, 148, 148, 148, 148, 148, 148, 148, 148, 148, 148, 148, 148, 148, 148, 148, 148, 148, 148, 148, 148, 148, 148, 148, 148, 148, 148, 148, 148, 148, 148, 148, 148, 148, 148, 148, 148, 148, 148, 148, 148, 148, 148, 148, 148, 148, 148, 148, 148, 148, 148, 148, 148, 148, 148, 148, 148, 148, 148, 148, 148, 148, 148, 148, 148, 148, 148, 148, 148, 148, 148, 148, 148, 148, 148, 148, 148, 148, 148, 148, 148, 148, 148, 148, 148, 148, 148, 148, 148, 148, 148, 148, 148, 148, 148, 148, 148, 148, 148, 148, 148, 148, 148, 148, 148, 148, 148, 148, 148, 148, 148, 148, 148, 148, 148, 148, 148, 148, 148, 148, 148, 148, 148, 148, 148, 148, 148, 148, 148, 148, 148, 148, 148, 148, 148, 148, 148, 148, 148, 148, 148, 148, 148, 148, 148, 148, 148, 148, 148, 148, 148, 148, 148, 148, 148, 148, 148, 148, 148, 148, 148, 148, 148, 148, 148, 148, 148, 148, 148, 148, 148, 148, 148, 148, 148, 148, 148, 148, 148, 148, 148, 148, 148, 148, 148, 148, 148, 148, 148, 148, 148, 148, 148, 148, 148, 148, 148, 148, 148, 148, 148, 148, 148, 148, 148, 148, 148, 148, 148, 148, 148, 148, 148, 148, 148, 148, 148, 148, 148, 148, 148, 148, 148, 148, 148, 148, 148, 148, 148, 148, 148, 148, 148, 148, 148, 148, 148, 148, 148, 148, 148, 148, 148, 148, 148, 148, 148, 148, 148, 148, 148, 148, 148, 148, 148, 148, 148, 148, 148, 148, 148, 148, 148, 148, 148, 148, 148, 148, 148, 148, 148, 148, 148, 148, 148, 148, 148, 148, 148, 148, 148, 148, 148, 148, 148, 148, 148, 148, 148, 148, 148, 148, 148, 148, 148, 148, 148, 148, 148, 148, 148, 148, 148, 148, 148, 148, 148, 148, 148, 148, 148, 148, 148, 148, 148, 148, 148, 148, 148, 148, 148, 148, 148, 148, 148, 148, 148, 148, 148, 148, 148, 148, 148, 148, 148, 148, 148, 148, 148, 148, 148, 148, 148, 148, 148, 148, 148, 148, 148, 148, 148, 148, 148, 148, 148, 148, 148, 148, 148, 148, 148, 148, 148, 148, 148, 148, 148, 148]\n",
            "Total no of video:  1154\n",
            "Average frame per video: 148.0\n"
          ]
        }
      ],
      "source": [
        "#Adding the datasets \n",
        "#Change the path to the specified datasets accordingly\n",
        "\n",
        "#DFDC Dataset \n",
        "#video_files = glob.glob('/content/drive/MyDrive/FinalDatasets/DFDC_FAKE_Face_only_data/*.mp4')\n",
        "#video_files += glob.glob('/content/drive/MyDrive/FinalDatasets/DFDC_REAL_Face_only_data/*.mp4')\n",
        "\n",
        "#Uncomment for Celeb DF dataset\n",
        "video_files = glob.glob('/content/drive/MyDrive/FinalDatasets/Celeb_fake_face_only/*.mp4')\n",
        "video_files += glob.glob('/content/drive/MyDrive/FinalDatasets/Celeb_real_face_only/*.mp4')\n",
        "\n",
        "#Uncomment for FaceForensics++ Dataset\n",
        "#video_files = glob.glob('/content/drive/MyDrive/FinalDatasets/FF_Face_only_data/*.mp4')\n",
        "\n",
        "random.shuffle(video_files)\n",
        "random.shuffle(video_files)\n",
        "frame_count = []\n",
        "\n",
        "#calculating the total videos in the complete dataset and average frames per video\n",
        "for video_file in video_files:\n",
        "  cap = cv2.VideoCapture(video_file)\n",
        "  if(int(cap.get(cv2.CAP_PROP_FRAME_COUNT))<148):\n",
        "    video_files.remove(video_file)\n",
        "    continue\n",
        "  frame_count.append(int(cap.get(cv2.CAP_PROP_FRAME_COUNT)))\n",
        "print(\"frames are \" , frame_count)\n",
        "print(\"Total no of video: \" , len(frame_count))\n",
        "print('Average frame per video:',np.mean(frame_count))"
      ]
    },
    {
      "cell_type": "code",
      "execution_count": 3,
      "metadata": {
        "id": "LrZXHDejUrCp"
      },
      "outputs": [],
      "source": [
        "#count the number of fake and real videos\n",
        "def number_of_real_and_fake_videos(data_list):\n",
        "  header_list = [\"file\",\"label\"]\n",
        "  #Change the path to Gobal_metadata.csv file accordingly\n",
        "  lab = pd.read_csv('/content/drive/MyDrive/Gobal_metadata.csv',names=header_list)\n",
        "  fake = 0\n",
        "  real = 0\n",
        "  for i in data_list:\n",
        "    temp_video = i.split('/')[-1]\n",
        "    label = lab.iloc[(labels.loc[labels[\"file\"] == temp_video].index.values[0]),1]\n",
        "    if(label == 'FAKE'):\n",
        "      fake+=1\n",
        "    if(label == 'REAL'):\n",
        "      real+=1\n",
        "  return real,fake"
      ]
    },
    {
      "cell_type": "code",
      "execution_count": 4,
      "metadata": {
        "id": "sH02LJigXsRX"
      },
      "outputs": [],
      "source": [
        "import cv2 as cv\n",
        "import numpy as np\n",
        "from matplotlib import pyplot as plt\n",
        "\n",
        "\n",
        "samples=[]\n",
        "label_lists=[] \n",
        "\n",
        "def get_opticalflow(file,frame_per_video) :\n",
        "  # The video feed is read in as a VideoCapture object\n",
        "  cap = cv.VideoCapture(file)\n",
        "\n",
        "  #splitting the file path to get the names of the videos\n",
        "  #change the split function according to your file path\n",
        "  temp_video = file.split('/')[-1]\n",
        "\n",
        "  #Change the path to Gobal_metadata.csv file accordingly\n",
        "  labels = pd.read_csv('/content/drive/MyDrive/Gobal_metadata.csv',names=header_list)\n",
        "\n",
        "  #getting the labels from Gobal_metadata.csv file\n",
        "  label = labels.iloc[(labels.loc[labels[\"file\"] == temp_video].index.values[0]),1]\n",
        "  if(label == 'FAKE'):\n",
        "    label = 0\n",
        "  if(label == 'REAL'):\n",
        "    label = 1\n",
        "  \n",
        "  # ret = a boolean return value from\n",
        "  # getting the frame, first_frame = the\n",
        "  # first frame in the entire video sequence\n",
        "  ret, first_frame = cap.read()\n",
        "\n",
        "  # Converts frame to grayscale because we only need the luminance channel for detecting edges - less computationally expensive\n",
        "  prev_gray = cv.cvtColor(first_frame, cv.COLOR_BGR2GRAY)\n",
        "\n",
        "  # Creates an image filled with zero\n",
        "  # intensities with the same dimensions\n",
        "  # as the frame\n",
        "  mask = np.zeros_like(first_frame)\n",
        "\n",
        "  #setting the frame count to 0\n",
        "  count=0\n",
        "  # Sets image saturation to maximum\n",
        "  mask[..., 1] = 255\n",
        "  \n",
        "  while(cap.isOpened()):\n",
        "\n",
        "    # ret = a boolean return value from getting\n",
        "    # the frame, frame = the current frame being\n",
        "    # projected in the video\n",
        "    ret, frame = cap.read()\n",
        "    \n",
        "    if ret==True:\n",
        "      #appending the labels of the frames\n",
        "      label_lists.append(label)\n",
        "      \n",
        "      # Converts each frame to grayscale - we previously\n",
        "      # only converted the first frame to grayscale\n",
        "      gray = cv.cvtColor(frame, cv.COLOR_BGR2GRAY)\n",
        "    \n",
        "      # Calculates dense optical flow by Farneback method\n",
        "      flow = cv.calcOpticalFlowFarneback(prev_gray, gray,\n",
        "                    None,\n",
        "                    0.5, 3, 15, 3, 5, 1.2, 0)\n",
        "    \n",
        "      # Computes the magnitude and angle of the 2D vectors\n",
        "      magnitude, angle = cv.cartToPolar(flow[..., 0], flow[..., 1])\n",
        "    \n",
        "      # Sets image hue according to the optical flow\n",
        "      # direction\n",
        "      mask[..., 0] = angle * 180 / np.pi / 2\n",
        "    \n",
        "      # Sets image value according to the optical flow\n",
        "      # magnitude (normalized)\n",
        "      mask[..., 2] = cv.normalize(magnitude, None, 0, 255, cv.NORM_MINMAX)\n",
        "    \n",
        "      # Converts HSV to RGB (BGR) color representation\n",
        "      rgb = cv.cvtColor(mask, cv.COLOR_HSV2BGR)\n",
        "    \n",
        "      #appending the rgb frames to samples\n",
        "      samples.append(rgb)\n",
        " \n",
        "      # Updates previous frame\n",
        "      prev_gray = gray\n",
        "\n",
        "    #updates the frame count\n",
        "    count=count+1\n",
        "    \n",
        "    #if the frame_count limit is reached the loop breaks and moves to next video\n",
        "    if count==frame_per_video:\n",
        "      break\n",
        "\n",
        "  # The following frees up resources and\n",
        "  # closes all windows\n",
        "  cap.release()\n",
        "  cv.destroyAllWindows()\n",
        "  "
      ]
    },
    {
      "cell_type": "code",
      "execution_count": 5,
      "metadata": {
        "colab": {
          "base_uri": "https://localhost:8080/"
        },
        "id": "EpHWPOv8XytI",
        "outputId": "c408d0cc-41c9-42bd-8177-9b0ffb0f5566"
      },
      "outputs": [
        {
          "output_type": "stream",
          "name": "stdout",
          "text": [
            "TOTAL TRAIN VIDEOS :  928\n",
            "TOTAL TEST VIDEOS :  233\n",
            "TRAIN:  Real: 468  Fake: 460\n",
            "TEST:  Real: 119  Fake: 114\n"
          ]
        }
      ],
      "source": [
        "header_list = [\"file\",\"label\"]\n",
        "#Change the path to Gobal_metadata.csv file accordingly\n",
        "labels = pd.read_csv('/content/drive/MyDrive/Gobal_metadata.csv',names=header_list)\n",
        "\n",
        "#splitting the video_files into train_videos and valis_videos in 80:20 ratio\n",
        "train_videos = video_files[:int(0.8*len(video_files))]\n",
        "valid_videos = video_files[int(0.8*len(video_files)):]\n",
        "\n",
        "print(\"TOTAL TRAIN VIDEOS : \" , len(train_videos))\n",
        "print(\"TOTAL TEST VIDEOS : \" , len(valid_videos))\n",
        "\n",
        "print(\"TRAIN: \", \"Real:\",number_of_real_and_fake_videos(train_videos)[0],\" Fake:\",number_of_real_and_fake_videos(train_videos)[1])\n",
        "print(\"TEST: \", \"Real:\",number_of_real_and_fake_videos(valid_videos)[0],\" Fake:\",number_of_real_and_fake_videos(valid_videos)[1])\n",
        "\n"
      ]
    },
    {
      "cell_type": "code",
      "execution_count": 6,
      "metadata": {
        "colab": {
          "base_uri": "https://localhost:8080/"
        },
        "id": "01FSAMxcX1pr",
        "outputId": "b4bbaeee-5635-42eb-dac8-9975367d41d1"
      },
      "outputs": [
        {
          "output_type": "stream",
          "name": "stdout",
          "text": [
            "shape of x:\n",
            "(9280, 112, 112, 3)\n"
          ]
        }
      ],
      "source": [
        "import numpy as np\n",
        "\n",
        "#defining the number of frames to retrieve from each video\n",
        "frame_per_video=148\n",
        "\n",
        "#Generating the optical flow of the videos in train_videos\n",
        "for i in train_videos:\n",
        "  get_opticalflow(i,frame_per_video)\n",
        "\n",
        "#converting the samples(frames list) to numpy array\n",
        "x=np.array(samples) \n",
        "print('shape of x:')\n",
        "print(x.shape)  "
      ]
    },
    {
      "cell_type": "code",
      "execution_count": 7,
      "metadata": {
        "id": "RBFa1Eve_Brk"
      },
      "outputs": [],
      "source": [
        "y = label_lists\n",
        "\n",
        "#creating the training and validation set\n",
        "X_train, X_test, y_train, y_test = train_test_split(x, y, random_state=42, test_size=0.2, stratify = y)"
      ]
    },
    {
      "cell_type": "code",
      "execution_count": 8,
      "metadata": {
        "colab": {
          "base_uri": "https://localhost:8080/"
        },
        "id": "qzXXpagwd6YI",
        "outputId": "67f03e34-d89a-483c-a450-9d3cd97d3b94"
      },
      "outputs": [
        {
          "output_type": "execute_result",
          "data": {
            "text/plain": [
              "(7424, 112, 112, 3)"
            ]
          },
          "metadata": {},
          "execution_count": 8
        }
      ],
      "source": [
        "#printing the shape of X_train\n",
        "X_train.shape"
      ]
    },
    {
      "cell_type": "code",
      "execution_count": 9,
      "metadata": {
        "id": "NEG9hlIQeO09"
      },
      "outputs": [],
      "source": [
        "# creating dummies of target variable for train and validation set\n",
        "y_train = pd.get_dummies(y_train)\n",
        "y_test = pd.get_dummies(y_test)"
      ]
    },
    {
      "cell_type": "code",
      "execution_count": 10,
      "metadata": {
        "id": "2MUDBKgjeYoX"
      },
      "outputs": [],
      "source": [
        "# creating the base model of pre-trained VGG16 model\n",
        "base_model = VGG16(weights='imagenet', include_top=False)"
      ]
    },
    {
      "cell_type": "code",
      "execution_count": 11,
      "metadata": {
        "colab": {
          "base_uri": "https://localhost:8080/"
        },
        "id": "OfFPBKbKe_hK",
        "outputId": "e326b534-ad4d-496e-f4e0-df834505a252"
      },
      "outputs": [
        {
          "output_type": "execute_result",
          "data": {
            "text/plain": [
              "(7424, 3, 3, 512)"
            ]
          },
          "metadata": {},
          "execution_count": 11
        }
      ],
      "source": [
        "# extracting features for training frames\n",
        "X_train = base_model.predict(X_train)\n",
        "X_train.shape"
      ]
    },
    {
      "cell_type": "code",
      "execution_count": 12,
      "metadata": {
        "colab": {
          "base_uri": "https://localhost:8080/"
        },
        "id": "bmKjNGANfObY",
        "outputId": "18d6af7a-da5b-41a3-edde-22702760ec43"
      },
      "outputs": [
        {
          "output_type": "execute_result",
          "data": {
            "text/plain": [
              "(1856, 3, 3, 512)"
            ]
          },
          "metadata": {},
          "execution_count": 12
        }
      ],
      "source": [
        "# extracting features for validation frames\n",
        "X_test = base_model.predict(X_test)\n",
        "X_test.shape"
      ]
    },
    {
      "cell_type": "code",
      "execution_count": 15,
      "metadata": {
        "id": "INDBhHwFfhxY"
      },
      "outputs": [],
      "source": [
        "# reshaping the training as well as validation frames in single dimension\n",
        "# change the shapes of X_train and X_test accordingly\n",
        "X_train = X_train.reshape(X_train.shape[0], 3*3*512)\n",
        "X_test = X_test.reshape(X_test.shape[0], 3*3*512)"
      ]
    },
    {
      "cell_type": "code",
      "execution_count": 16,
      "metadata": {
        "id": "4UA2nvQYfsEa"
      },
      "outputs": [],
      "source": [
        "# normalizing the pixel values\n",
        "max = X_train.max()\n",
        "X_train = X_train/max\n",
        "X_test = X_test/max"
      ]
    },
    {
      "cell_type": "markdown",
      "metadata": {
        "id": "6zrANnzi_buY"
      },
      "source": [
        "The input shape will be 4608, which is the shape of our images"
      ]
    },
    {
      "cell_type": "code",
      "execution_count": 21,
      "metadata": {
        "id": "et8h_Zfvfyty"
      },
      "outputs": [],
      "source": [
        "#defining the model architecture\n",
        "model = Sequential()\n",
        "model.add(Dense(1024, activation='relu', input_shape=(4608,)))\n",
        "model.add(Dropout(0.5))\n",
        "model.add(Dense(512, activation='relu'))\n",
        "model.add(Dropout(0.5))\n",
        "model.add(Dense(256, activation='relu'))\n",
        "model.add(Dropout(0.5))\n",
        "model.add(Dense(128, activation='relu'))\n",
        "model.add(Dropout(0.5))\n",
        "model.add(Dense(2, activation='softmax'))"
      ]
    },
    {
      "cell_type": "code",
      "execution_count": 22,
      "metadata": {
        "id": "AnozyxvPf798"
      },
      "outputs": [],
      "source": [
        "# defining a function to save the weights of best model\n",
        "from keras.callbacks import ModelCheckpoint\n",
        "mcp_save = ModelCheckpoint('weight.hdf5', save_best_only=True, monitor='val_loss', mode='min')"
      ]
    },
    {
      "cell_type": "code",
      "execution_count": 23,
      "metadata": {
        "id": "f95MUwc4f_y9"
      },
      "outputs": [],
      "source": [
        "# compiling the model\n",
        "model.compile(loss='categorical_crossentropy',optimizer='Adam',metrics=['accuracy'])"
      ]
    },
    {
      "cell_type": "code",
      "execution_count": 24,
      "metadata": {
        "colab": {
          "base_uri": "https://localhost:8080/"
        },
        "id": "3Fz79x-JgKeh",
        "outputId": "e360a83a-e917-430a-ae4d-32f3f48a9eca"
      },
      "outputs": [
        {
          "output_type": "stream",
          "name": "stdout",
          "text": [
            "Epoch 1/30\n",
            "58/58 [==============================] - 1s 11ms/step - loss: 0.6951 - accuracy: 0.5170 - val_loss: 0.6915 - val_accuracy: 0.5102\n",
            "Epoch 2/30\n",
            "58/58 [==============================] - 0s 7ms/step - loss: 0.6769 - accuracy: 0.5669 - val_loss: 0.6593 - val_accuracy: 0.6110\n",
            "Epoch 3/30\n",
            "58/58 [==============================] - 1s 14ms/step - loss: 0.6504 - accuracy: 0.6255 - val_loss: 0.6443 - val_accuracy: 0.6272\n",
            "Epoch 4/30\n",
            "58/58 [==============================] - 0s 8ms/step - loss: 0.6219 - accuracy: 0.6568 - val_loss: 0.6412 - val_accuracy: 0.6288\n",
            "Epoch 5/30\n",
            "58/58 [==============================] - 0s 8ms/step - loss: 0.5868 - accuracy: 0.6899 - val_loss: 0.6412 - val_accuracy: 0.6175\n",
            "Epoch 6/30\n",
            "58/58 [==============================] - 0s 5ms/step - loss: 0.5371 - accuracy: 0.7373 - val_loss: 0.6419 - val_accuracy: 0.6342\n",
            "Epoch 7/30\n",
            "58/58 [==============================] - 0s 5ms/step - loss: 0.4782 - accuracy: 0.7741 - val_loss: 0.7665 - val_accuracy: 0.6137\n",
            "Epoch 8/30\n",
            "58/58 [==============================] - 0s 5ms/step - loss: 0.4159 - accuracy: 0.8130 - val_loss: 0.7538 - val_accuracy: 0.6148\n",
            "Epoch 9/30\n",
            "58/58 [==============================] - 0s 5ms/step - loss: 0.3588 - accuracy: 0.8470 - val_loss: 0.8558 - val_accuracy: 0.6115\n",
            "Epoch 10/30\n",
            "58/58 [==============================] - 0s 5ms/step - loss: 0.3020 - accuracy: 0.8754 - val_loss: 0.9401 - val_accuracy: 0.6320\n",
            "Epoch 11/30\n",
            "58/58 [==============================] - 0s 5ms/step - loss: 0.2655 - accuracy: 0.8936 - val_loss: 1.0169 - val_accuracy: 0.6207\n",
            "Epoch 12/30\n",
            "58/58 [==============================] - 0s 5ms/step - loss: 0.2153 - accuracy: 0.9170 - val_loss: 1.0229 - val_accuracy: 0.6207\n",
            "Epoch 13/30\n",
            "58/58 [==============================] - 0s 5ms/step - loss: 0.1846 - accuracy: 0.9275 - val_loss: 1.1559 - val_accuracy: 0.6158\n",
            "Epoch 14/30\n",
            "58/58 [==============================] - 0s 5ms/step - loss: 0.1738 - accuracy: 0.9333 - val_loss: 1.1261 - val_accuracy: 0.6272\n",
            "Epoch 15/30\n",
            "58/58 [==============================] - 0s 5ms/step - loss: 0.1380 - accuracy: 0.9473 - val_loss: 1.3931 - val_accuracy: 0.6207\n",
            "Epoch 16/30\n",
            "58/58 [==============================] - 0s 5ms/step - loss: 0.1325 - accuracy: 0.9498 - val_loss: 1.2752 - val_accuracy: 0.6234\n",
            "Epoch 17/30\n",
            "58/58 [==============================] - 0s 5ms/step - loss: 0.0964 - accuracy: 0.9651 - val_loss: 1.5297 - val_accuracy: 0.6212\n",
            "Epoch 18/30\n",
            "58/58 [==============================] - 0s 5ms/step - loss: 0.0955 - accuracy: 0.9639 - val_loss: 1.5809 - val_accuracy: 0.6293\n",
            "Epoch 19/30\n",
            "58/58 [==============================] - 0s 5ms/step - loss: 0.1012 - accuracy: 0.9640 - val_loss: 1.5911 - val_accuracy: 0.6272\n",
            "Epoch 20/30\n",
            "58/58 [==============================] - 0s 5ms/step - loss: 0.0814 - accuracy: 0.9723 - val_loss: 1.5871 - val_accuracy: 0.6250\n",
            "Epoch 21/30\n",
            "58/58 [==============================] - 0s 5ms/step - loss: 0.0706 - accuracy: 0.9762 - val_loss: 1.7580 - val_accuracy: 0.6196\n",
            "Epoch 22/30\n",
            "58/58 [==============================] - 0s 5ms/step - loss: 0.0716 - accuracy: 0.9739 - val_loss: 1.7755 - val_accuracy: 0.6320\n",
            "Epoch 23/30\n",
            "58/58 [==============================] - 0s 5ms/step - loss: 0.0594 - accuracy: 0.9797 - val_loss: 1.8420 - val_accuracy: 0.6223\n",
            "Epoch 24/30\n",
            "58/58 [==============================] - 0s 5ms/step - loss: 0.0546 - accuracy: 0.9813 - val_loss: 1.9418 - val_accuracy: 0.6105\n",
            "Epoch 25/30\n",
            "58/58 [==============================] - 0s 5ms/step - loss: 0.0695 - accuracy: 0.9791 - val_loss: 1.6254 - val_accuracy: 0.6315\n",
            "Epoch 26/30\n",
            "58/58 [==============================] - 0s 5ms/step - loss: 0.0486 - accuracy: 0.9811 - val_loss: 1.9914 - val_accuracy: 0.6148\n",
            "Epoch 27/30\n",
            "58/58 [==============================] - 0s 5ms/step - loss: 0.0585 - accuracy: 0.9790 - val_loss: 1.9869 - val_accuracy: 0.6185\n",
            "Epoch 28/30\n",
            "58/58 [==============================] - 0s 5ms/step - loss: 0.0445 - accuracy: 0.9844 - val_loss: 2.0650 - val_accuracy: 0.6234\n",
            "Epoch 29/30\n",
            "58/58 [==============================] - 0s 5ms/step - loss: 0.0506 - accuracy: 0.9810 - val_loss: 1.7095 - val_accuracy: 0.6261\n",
            "Epoch 30/30\n",
            "58/58 [==============================] - 0s 5ms/step - loss: 0.0456 - accuracy: 0.9829 - val_loss: 1.9838 - val_accuracy: 0.6309\n"
          ]
        },
        {
          "output_type": "execute_result",
          "data": {
            "text/plain": [
              "<keras.callbacks.History at 0x7fd58a3fe7d0>"
            ]
          },
          "metadata": {},
          "execution_count": 24
        }
      ],
      "source": [
        "# training the model\n",
        "model.fit(X_train, y_train, epochs=30, validation_data=(X_test, y_test), callbacks=[mcp_save], batch_size=128)"
      ]
    },
    {
      "cell_type": "markdown",
      "metadata": {
        "id": "rDCTKdz8AzvC"
      },
      "source": [
        "Evaluating our Model"
      ]
    },
    {
      "cell_type": "code",
      "execution_count": 25,
      "metadata": {
        "id": "N-QNh4LuhuIm"
      },
      "outputs": [],
      "source": [
        "# loading the trained weights \n",
        "#Enter the path accordingly\n",
        "model.load_weights(\"weight.hdf5\")"
      ]
    },
    {
      "cell_type": "code",
      "execution_count": 26,
      "metadata": {
        "id": "L3PFQUIO_q_H"
      },
      "outputs": [],
      "source": [
        "# creating dataframe for actual labels of the valid_videos\n",
        "valid_label =[]\n",
        "\n",
        "for video_file in valid_videos :\n",
        "    count = 0\n",
        "    videoFile = video_file\n",
        "    cap = cv2.VideoCapture(video_file)   # capturing the video from the given path\n",
        "\n",
        "    # Splitting the file path of videos to get their names \n",
        "    #can be changed accordingly\n",
        "    temp_video = video_file.split('/')[-1] \n",
        "\n",
        "    # Change the path to Gobal_metadata.csv accordingly\n",
        "    labels = pd.read_csv('/content/drive/MyDrive/Gobal_metadata.csv',names=header_list)\n",
        "    label = labels.iloc[(labels.loc[labels[\"file\"] == temp_video].index.values[0]),1]\n",
        "    if(label == 'FAKE'):\n",
        "      label = 0\n",
        "    if(label == 'REAL'):\n",
        "      label = 1\n",
        "    label_str = str(label)\n",
        "    valid_label.append(label_str)\n",
        "            \n",
        "df = pd.DataFrame(valid_label)\n",
        "y = pd.get_dummies(df)"
      ]
    },
    {
      "cell_type": "markdown",
      "metadata": {
        "id": "UYZahHf0Cep5"
      },
      "source": [
        "While re-running the code, execute predit.clear to clear the list of previously predicted labels"
      ]
    },
    {
      "cell_type": "code",
      "execution_count": 30,
      "metadata": {
        "id": "UQaT8hszh4do"
      },
      "outputs": [],
      "source": [
        "predict=[]\n",
        "\n",
        "def predicting(file,frame_per_video) :\n",
        "  prediction_images=[]\n",
        "  count=0 \n",
        "  # The video feed is read in as\n",
        "  # a VideoCapture object\n",
        "  cap = cv.VideoCapture(file)\n",
        "  \n",
        "  # ret = a boolean return value from\n",
        "  # getting the frame, first_frame = the\n",
        "  # first frame in the entire video sequence\n",
        "  ret, first_frame = cap.read()\n",
        "\n",
        "  # Converts frame to grayscale because we\n",
        "  # only need the luminance channel for\n",
        "  # detecting edges - less computationally\n",
        "  # expensive\n",
        "  prev_gray = cv.cvtColor(first_frame, cv.COLOR_BGR2GRAY)\n",
        "\n",
        "  # Creates an image filled with zero\n",
        "  # intensities with the same dimensions\n",
        "  # as the frame\n",
        "  mask = np.zeros_like(first_frame)\n",
        "  \n",
        "  # Sets image saturation to maximum\n",
        "  mask[..., 1] = 255\n",
        "  \n",
        "  while(cap.isOpened()):\n",
        "    \n",
        "    # ret = a boolean return value from getting\n",
        "    # the frame, frame = the current frame being\n",
        "    # projected in the video\n",
        "    ret, frame = cap.read()\n",
        "    \n",
        "    if ret==True:\n",
        "    \n",
        "      # Converts each frame to grayscale - we previously\n",
        "      # only converted the first frame to grayscale\n",
        "      gray = cv.cvtColor(frame, cv.COLOR_BGR2GRAY)\n",
        "    \n",
        "      # Calculates dense optical flow by Farneback method\n",
        "      flow = cv.calcOpticalFlowFarneback(prev_gray, gray,\n",
        "                    None,\n",
        "                    0.5, 3, 15, 3, 5, 1.2, 0)\n",
        "    \n",
        "      # Computes the magnitude and angle of the 2D vectors\n",
        "      magnitude, angle = cv.cartToPolar(flow[..., 0], flow[..., 1])\n",
        "    \n",
        "      # Sets image hue according to the optical flow direction\n",
        "      mask[..., 0] = angle * 180 / np.pi / 2\n",
        "    \n",
        "      # Sets image value according to the optical flow magnitude (normalized)\n",
        "      mask[..., 2] = cv.normalize(magnitude, None, 0, 255, cv.NORM_MINMAX)\n",
        "    \n",
        "      # Converts HSV to RGB (BGR) color representation\n",
        "      rgb = cv.cvtColor(mask, cv.COLOR_HSV2BGR)\n",
        "    \n",
        "      #appending the rgb images \n",
        "      prediction_images.append(rgb)\n",
        "    \n",
        "      # Updates previous frame\n",
        "      prev_gray = gray\n",
        "    count=count+1\n",
        "    # Frames are read by intervals of 1 millisecond. The\n",
        "    # programs breaks out of the while loop when the\n",
        "    # user presses the 'q' key\n",
        "    if count==frame_per_video:\n",
        "      break\n",
        "\n",
        "  # The following frees up resources and closes all windows\n",
        "  cap.release()\n",
        "  cv.destroyAllWindows()\n",
        "  # converting all the frames for a test video into numpy array\n",
        "  prediction_images = np.array(prediction_images)\n",
        "\n",
        "  # extracting features using pre-trained model\n",
        "  prediction_images = base_model.predict(prediction_images)\n",
        "\n",
        "  # converting features in one dimensional array\n",
        "  prediction_images = prediction_images.reshape(prediction_images.shape[0], 3*3*512)\n",
        "\n",
        "  # predicting tags for each array\n",
        "  prediction = np.argmax(model.predict(prediction_images),axis=-1)\n",
        "\n",
        "  prediction_new= pd.DataFrame(prediction)\n",
        "  g = s.mode(prediction_new)[0][0]\n",
        "  k=g[0]\n",
        "  # appending the mode of predictions in predict list to assign the tag to the video\n",
        "  predict.append(y.columns.values[k].split('_')[-1])\n",
        "  \n",
        "  "
      ]
    },
    {
      "cell_type": "code",
      "execution_count": 31,
      "metadata": {
        "colab": {
          "base_uri": "https://localhost:8080/"
        },
        "id": "DyS9oKGDTWbx",
        "outputId": "b6f39649-9783-4ae4-e26c-63de8be02155"
      },
      "outputs": [
        {
          "output_type": "stream",
          "name": "stdout",
          "text": [
            "shape of prediction image : \n",
            "(10, 3, 3, 512)\n",
            "shape of prediction image : \n",
            "(10, 3, 3, 512)\n",
            "shape of prediction image : \n",
            "(10, 3, 3, 512)\n",
            "shape of prediction image : \n",
            "(10, 3, 3, 512)\n",
            "shape of prediction image : \n",
            "(10, 3, 3, 512)\n",
            "shape of prediction image : \n",
            "(10, 3, 3, 512)\n",
            "shape of prediction image : \n",
            "(10, 3, 3, 512)\n",
            "shape of prediction image : \n",
            "(10, 3, 3, 512)\n",
            "shape of prediction image : \n",
            "(10, 3, 3, 512)\n",
            "shape of prediction image : \n",
            "(10, 3, 3, 512)\n",
            "shape of prediction image : \n",
            "(10, 3, 3, 512)\n",
            "shape of prediction image : \n",
            "(10, 3, 3, 512)\n",
            "shape of prediction image : \n",
            "(10, 3, 3, 512)\n",
            "shape of prediction image : \n",
            "(10, 3, 3, 512)\n",
            "shape of prediction image : \n",
            "(10, 3, 3, 512)\n",
            "shape of prediction image : \n",
            "(10, 3, 3, 512)\n",
            "shape of prediction image : \n",
            "(10, 3, 3, 512)\n",
            "shape of prediction image : \n",
            "(10, 3, 3, 512)\n",
            "shape of prediction image : \n",
            "(10, 3, 3, 512)\n",
            "shape of prediction image : \n",
            "(10, 3, 3, 512)\n",
            "shape of prediction image : \n",
            "(10, 3, 3, 512)\n",
            "shape of prediction image : \n",
            "(10, 3, 3, 512)\n",
            "shape of prediction image : \n",
            "(10, 3, 3, 512)\n",
            "shape of prediction image : \n",
            "(10, 3, 3, 512)\n",
            "shape of prediction image : \n",
            "(10, 3, 3, 512)\n",
            "shape of prediction image : \n",
            "(10, 3, 3, 512)\n",
            "shape of prediction image : \n",
            "(10, 3, 3, 512)\n",
            "shape of prediction image : \n",
            "(10, 3, 3, 512)\n",
            "shape of prediction image : \n",
            "(10, 3, 3, 512)\n",
            "shape of prediction image : \n",
            "(10, 3, 3, 512)\n",
            "shape of prediction image : \n",
            "(10, 3, 3, 512)\n",
            "shape of prediction image : \n",
            "(10, 3, 3, 512)\n",
            "shape of prediction image : \n",
            "(10, 3, 3, 512)\n",
            "shape of prediction image : \n",
            "(10, 3, 3, 512)\n",
            "shape of prediction image : \n",
            "(10, 3, 3, 512)\n",
            "shape of prediction image : \n",
            "(10, 3, 3, 512)\n",
            "shape of prediction image : \n",
            "(10, 3, 3, 512)\n",
            "shape of prediction image : \n",
            "(10, 3, 3, 512)\n",
            "shape of prediction image : \n",
            "(10, 3, 3, 512)\n",
            "shape of prediction image : \n",
            "(10, 3, 3, 512)\n",
            "shape of prediction image : \n",
            "(10, 3, 3, 512)\n",
            "shape of prediction image : \n",
            "(10, 3, 3, 512)\n",
            "shape of prediction image : \n",
            "(10, 3, 3, 512)\n",
            "shape of prediction image : \n",
            "(10, 3, 3, 512)\n",
            "shape of prediction image : \n",
            "(10, 3, 3, 512)\n",
            "shape of prediction image : \n",
            "(10, 3, 3, 512)\n",
            "shape of prediction image : \n",
            "(10, 3, 3, 512)\n",
            "shape of prediction image : \n",
            "(10, 3, 3, 512)\n",
            "shape of prediction image : \n",
            "(10, 3, 3, 512)\n",
            "shape of prediction image : \n",
            "(10, 3, 3, 512)\n",
            "shape of prediction image : \n",
            "(10, 3, 3, 512)\n",
            "shape of prediction image : \n",
            "(10, 3, 3, 512)\n",
            "shape of prediction image : \n",
            "(10, 3, 3, 512)\n",
            "shape of prediction image : \n",
            "(10, 3, 3, 512)\n",
            "shape of prediction image : \n",
            "(10, 3, 3, 512)\n",
            "shape of prediction image : \n",
            "(10, 3, 3, 512)\n",
            "shape of prediction image : \n",
            "(10, 3, 3, 512)\n",
            "shape of prediction image : \n",
            "(10, 3, 3, 512)\n",
            "shape of prediction image : \n",
            "(10, 3, 3, 512)\n",
            "shape of prediction image : \n",
            "(10, 3, 3, 512)\n",
            "shape of prediction image : \n",
            "(10, 3, 3, 512)\n",
            "shape of prediction image : \n",
            "(10, 3, 3, 512)\n",
            "shape of prediction image : \n",
            "(10, 3, 3, 512)\n",
            "shape of prediction image : \n",
            "(10, 3, 3, 512)\n",
            "shape of prediction image : \n",
            "(10, 3, 3, 512)\n",
            "shape of prediction image : \n",
            "(10, 3, 3, 512)\n",
            "shape of prediction image : \n",
            "(10, 3, 3, 512)\n",
            "shape of prediction image : \n",
            "(10, 3, 3, 512)\n",
            "shape of prediction image : \n",
            "(10, 3, 3, 512)\n",
            "shape of prediction image : \n",
            "(10, 3, 3, 512)\n",
            "shape of prediction image : \n",
            "(10, 3, 3, 512)\n",
            "shape of prediction image : \n",
            "(10, 3, 3, 512)\n",
            "shape of prediction image : \n",
            "(10, 3, 3, 512)\n",
            "shape of prediction image : \n",
            "(10, 3, 3, 512)\n",
            "shape of prediction image : \n",
            "(10, 3, 3, 512)\n",
            "shape of prediction image : \n",
            "(10, 3, 3, 512)\n",
            "shape of prediction image : \n",
            "(10, 3, 3, 512)\n",
            "shape of prediction image : \n",
            "(10, 3, 3, 512)\n",
            "shape of prediction image : \n",
            "(10, 3, 3, 512)\n",
            "shape of prediction image : \n",
            "(10, 3, 3, 512)\n",
            "shape of prediction image : \n",
            "(10, 3, 3, 512)\n",
            "shape of prediction image : \n",
            "(10, 3, 3, 512)\n",
            "shape of prediction image : \n",
            "(10, 3, 3, 512)\n",
            "shape of prediction image : \n",
            "(10, 3, 3, 512)\n",
            "shape of prediction image : \n",
            "(10, 3, 3, 512)\n",
            "shape of prediction image : \n",
            "(10, 3, 3, 512)\n",
            "shape of prediction image : \n",
            "(10, 3, 3, 512)\n",
            "shape of prediction image : \n",
            "(10, 3, 3, 512)\n",
            "shape of prediction image : \n",
            "(10, 3, 3, 512)\n",
            "shape of prediction image : \n",
            "(10, 3, 3, 512)\n",
            "shape of prediction image : \n",
            "(10, 3, 3, 512)\n",
            "shape of prediction image : \n",
            "(10, 3, 3, 512)\n",
            "shape of prediction image : \n",
            "(10, 3, 3, 512)\n",
            "shape of prediction image : \n",
            "(10, 3, 3, 512)\n",
            "shape of prediction image : \n",
            "(10, 3, 3, 512)\n",
            "shape of prediction image : \n",
            "(10, 3, 3, 512)\n",
            "shape of prediction image : \n",
            "(10, 3, 3, 512)\n",
            "shape of prediction image : \n",
            "(10, 3, 3, 512)\n",
            "shape of prediction image : \n",
            "(10, 3, 3, 512)\n",
            "shape of prediction image : \n",
            "(10, 3, 3, 512)\n",
            "shape of prediction image : \n",
            "(10, 3, 3, 512)\n",
            "shape of prediction image : \n",
            "(10, 3, 3, 512)\n",
            "shape of prediction image : \n",
            "(10, 3, 3, 512)\n",
            "shape of prediction image : \n",
            "(10, 3, 3, 512)\n",
            "shape of prediction image : \n",
            "(10, 3, 3, 512)\n",
            "shape of prediction image : \n",
            "(10, 3, 3, 512)\n",
            "shape of prediction image : \n",
            "(10, 3, 3, 512)\n",
            "shape of prediction image : \n",
            "(10, 3, 3, 512)\n",
            "shape of prediction image : \n",
            "(10, 3, 3, 512)\n",
            "shape of prediction image : \n",
            "(10, 3, 3, 512)\n",
            "shape of prediction image : \n",
            "(10, 3, 3, 512)\n",
            "shape of prediction image : \n",
            "(10, 3, 3, 512)\n",
            "shape of prediction image : \n",
            "(10, 3, 3, 512)\n",
            "shape of prediction image : \n",
            "(10, 3, 3, 512)\n",
            "shape of prediction image : \n",
            "(10, 3, 3, 512)\n",
            "shape of prediction image : \n",
            "(10, 3, 3, 512)\n",
            "shape of prediction image : \n",
            "(10, 3, 3, 512)\n",
            "shape of prediction image : \n",
            "(10, 3, 3, 512)\n",
            "shape of prediction image : \n",
            "(10, 3, 3, 512)\n",
            "shape of prediction image : \n",
            "(10, 3, 3, 512)\n",
            "shape of prediction image : \n",
            "(10, 3, 3, 512)\n",
            "shape of prediction image : \n",
            "(10, 3, 3, 512)\n",
            "shape of prediction image : \n",
            "(10, 3, 3, 512)\n",
            "shape of prediction image : \n",
            "(10, 3, 3, 512)\n",
            "shape of prediction image : \n",
            "(10, 3, 3, 512)\n",
            "shape of prediction image : \n",
            "(10, 3, 3, 512)\n",
            "shape of prediction image : \n",
            "(10, 3, 3, 512)\n",
            "shape of prediction image : \n",
            "(10, 3, 3, 512)\n",
            "shape of prediction image : \n",
            "(10, 3, 3, 512)\n",
            "shape of prediction image : \n",
            "(10, 3, 3, 512)\n",
            "shape of prediction image : \n",
            "(10, 3, 3, 512)\n",
            "shape of prediction image : \n",
            "(10, 3, 3, 512)\n",
            "shape of prediction image : \n",
            "(10, 3, 3, 512)\n",
            "shape of prediction image : \n",
            "(10, 3, 3, 512)\n",
            "shape of prediction image : \n",
            "(10, 3, 3, 512)\n",
            "shape of prediction image : \n",
            "(10, 3, 3, 512)\n",
            "shape of prediction image : \n",
            "(10, 3, 3, 512)\n",
            "shape of prediction image : \n",
            "(10, 3, 3, 512)\n",
            "shape of prediction image : \n",
            "(10, 3, 3, 512)\n",
            "shape of prediction image : \n",
            "(10, 3, 3, 512)\n",
            "shape of prediction image : \n",
            "(10, 3, 3, 512)\n",
            "shape of prediction image : \n",
            "(10, 3, 3, 512)\n",
            "shape of prediction image : \n",
            "(10, 3, 3, 512)\n",
            "shape of prediction image : \n",
            "(10, 3, 3, 512)\n",
            "shape of prediction image : \n",
            "(10, 3, 3, 512)\n",
            "shape of prediction image : \n",
            "(10, 3, 3, 512)\n",
            "shape of prediction image : \n",
            "(10, 3, 3, 512)\n",
            "shape of prediction image : \n",
            "(10, 3, 3, 512)\n",
            "shape of prediction image : \n",
            "(10, 3, 3, 512)\n",
            "shape of prediction image : \n",
            "(10, 3, 3, 512)\n",
            "shape of prediction image : \n",
            "(10, 3, 3, 512)\n",
            "shape of prediction image : \n",
            "(10, 3, 3, 512)\n",
            "shape of prediction image : \n",
            "(10, 3, 3, 512)\n",
            "shape of prediction image : \n",
            "(10, 3, 3, 512)\n",
            "shape of prediction image : \n",
            "(10, 3, 3, 512)\n",
            "shape of prediction image : \n",
            "(10, 3, 3, 512)\n",
            "shape of prediction image : \n",
            "(10, 3, 3, 512)\n",
            "shape of prediction image : \n",
            "(10, 3, 3, 512)\n",
            "shape of prediction image : \n",
            "(10, 3, 3, 512)\n",
            "shape of prediction image : \n",
            "(10, 3, 3, 512)\n",
            "shape of prediction image : \n",
            "(10, 3, 3, 512)\n",
            "shape of prediction image : \n",
            "(10, 3, 3, 512)\n",
            "shape of prediction image : \n",
            "(10, 3, 3, 512)\n",
            "shape of prediction image : \n",
            "(10, 3, 3, 512)\n",
            "shape of prediction image : \n",
            "(10, 3, 3, 512)\n",
            "shape of prediction image : \n",
            "(10, 3, 3, 512)\n",
            "shape of prediction image : \n",
            "(10, 3, 3, 512)\n",
            "shape of prediction image : \n",
            "(10, 3, 3, 512)\n",
            "shape of prediction image : \n",
            "(10, 3, 3, 512)\n",
            "shape of prediction image : \n",
            "(10, 3, 3, 512)\n",
            "shape of prediction image : \n",
            "(10, 3, 3, 512)\n",
            "shape of prediction image : \n",
            "(10, 3, 3, 512)\n",
            "shape of prediction image : \n",
            "(10, 3, 3, 512)\n",
            "shape of prediction image : \n",
            "(10, 3, 3, 512)\n",
            "shape of prediction image : \n",
            "(10, 3, 3, 512)\n",
            "shape of prediction image : \n",
            "(10, 3, 3, 512)\n",
            "shape of prediction image : \n",
            "(10, 3, 3, 512)\n",
            "shape of prediction image : \n",
            "(10, 3, 3, 512)\n",
            "shape of prediction image : \n",
            "(10, 3, 3, 512)\n",
            "shape of prediction image : \n",
            "(10, 3, 3, 512)\n",
            "shape of prediction image : \n",
            "(10, 3, 3, 512)\n",
            "shape of prediction image : \n",
            "(10, 3, 3, 512)\n",
            "shape of prediction image : \n",
            "(10, 3, 3, 512)\n",
            "shape of prediction image : \n",
            "(10, 3, 3, 512)\n",
            "shape of prediction image : \n",
            "(10, 3, 3, 512)\n",
            "shape of prediction image : \n",
            "(10, 3, 3, 512)\n",
            "shape of prediction image : \n",
            "(10, 3, 3, 512)\n",
            "shape of prediction image : \n",
            "(10, 3, 3, 512)\n",
            "shape of prediction image : \n",
            "(10, 3, 3, 512)\n",
            "shape of prediction image : \n",
            "(10, 3, 3, 512)\n",
            "shape of prediction image : \n",
            "(10, 3, 3, 512)\n",
            "shape of prediction image : \n",
            "(10, 3, 3, 512)\n",
            "shape of prediction image : \n",
            "(10, 3, 3, 512)\n",
            "shape of prediction image : \n",
            "(10, 3, 3, 512)\n",
            "shape of prediction image : \n",
            "(10, 3, 3, 512)\n",
            "shape of prediction image : \n",
            "(10, 3, 3, 512)\n",
            "shape of prediction image : \n",
            "(10, 3, 3, 512)\n",
            "shape of prediction image : \n",
            "(10, 3, 3, 512)\n",
            "shape of prediction image : \n",
            "(10, 3, 3, 512)\n",
            "shape of prediction image : \n",
            "(10, 3, 3, 512)\n",
            "shape of prediction image : \n",
            "(10, 3, 3, 512)\n",
            "shape of prediction image : \n",
            "(10, 3, 3, 512)\n",
            "shape of prediction image : \n",
            "(10, 3, 3, 512)\n",
            "shape of prediction image : \n",
            "(10, 3, 3, 512)\n",
            "shape of prediction image : \n",
            "(10, 3, 3, 512)\n",
            "shape of prediction image : \n",
            "(10, 3, 3, 512)\n",
            "shape of prediction image : \n",
            "(10, 3, 3, 512)\n",
            "shape of prediction image : \n",
            "(10, 3, 3, 512)\n",
            "shape of prediction image : \n",
            "(10, 3, 3, 512)\n",
            "shape of prediction image : \n",
            "(10, 3, 3, 512)\n",
            "shape of prediction image : \n",
            "(10, 3, 3, 512)\n",
            "shape of prediction image : \n",
            "(10, 3, 3, 512)\n",
            "shape of prediction image : \n",
            "(10, 3, 3, 512)\n",
            "shape of prediction image : \n",
            "(10, 3, 3, 512)\n",
            "shape of prediction image : \n",
            "(10, 3, 3, 512)\n",
            "shape of prediction image : \n",
            "(10, 3, 3, 512)\n",
            "shape of prediction image : \n",
            "(10, 3, 3, 512)\n",
            "shape of prediction image : \n",
            "(10, 3, 3, 512)\n",
            "shape of prediction image : \n",
            "(10, 3, 3, 512)\n",
            "shape of prediction image : \n",
            "(10, 3, 3, 512)\n",
            "shape of prediction image : \n",
            "(10, 3, 3, 512)\n",
            "shape of prediction image : \n",
            "(10, 3, 3, 512)\n",
            "shape of prediction image : \n",
            "(10, 3, 3, 512)\n",
            "shape of prediction image : \n",
            "(10, 3, 3, 512)\n",
            "shape of prediction image : \n",
            "(10, 3, 3, 512)\n",
            "shape of prediction image : \n",
            "(10, 3, 3, 512)\n",
            "shape of prediction image : \n",
            "(10, 3, 3, 512)\n",
            "shape of prediction image : \n",
            "(10, 3, 3, 512)\n",
            "shape of prediction image : \n",
            "(10, 3, 3, 512)\n",
            "shape of prediction image : \n",
            "(10, 3, 3, 512)\n",
            "shape of prediction image : \n",
            "(10, 3, 3, 512)\n",
            "shape of prediction image : \n",
            "(10, 3, 3, 512)\n",
            "shape of prediction image : \n",
            "(10, 3, 3, 512)\n"
          ]
        }
      ],
      "source": [
        "#predicting the videos over the trained model\n",
        "for i in valid_videos :\n",
        "  predicting(i,frame_per_video)"
      ]
    },
    {
      "cell_type": "code",
      "execution_count": 32,
      "metadata": {
        "colab": {
          "base_uri": "https://localhost:8080/"
        },
        "id": "vLpAQ2lqIq7h",
        "outputId": "4ba5ae45-1581-41b7-fcb7-1580ac5c4239"
      },
      "outputs": [
        {
          "output_type": "stream",
          "name": "stdout",
          "text": [
            "Accuracy score :  57.08154506437768\n",
            "Precision score :  57.08994708994709\n",
            "Recall score :  56.914344685242526\n",
            "F1 score :  56.73005496954391\n",
            "ROC AUC score :  0.5691434468524251\n"
          ]
        },
        {
          "output_type": "stream",
          "name": "stderr",
          "text": [
            "/usr/local/lib/python3.7/dist-packages/sklearn/metrics/_ranking.py:546: FutureWarning: Arrays of bytes/strings is being converted to decimal numbers if dtype='numeric'. This behavior is deprecated in 0.24 and will be removed in 1.1 (renaming of 0.26). Please convert your data to numeric values explicitly instead.\n",
            "  y_score = check_array(y_score, ensure_2d=False)\n"
          ]
        }
      ],
      "source": [
        "accuracy_metric=accuracy_score(predict, valid_label)\n",
        "print(\"Accuracy score : \", accuracy_metric*100)\n",
        "\n",
        "precision_metric=precision_score(valid_label, predict, average = \"macro\")\n",
        "print(\"Precision score : \", precision_metric*100)\n",
        "\n",
        "recall_metric = recall_score(valid_label, predict, average = \"macro\")\n",
        "print(\"Recall score : \",recall_metric*100)\n",
        "\n",
        "\n",
        "f1_metric = f1_score(valid_label, predict, average = \"macro\")\n",
        "print(\"F1 score : \", f1_metric*100)\n",
        "\n",
        "# calculate roc curve\n",
        "#fpr, tpr, thresholds = roc_curve(valid_label, predict)\n",
        "# calculate AUC\n",
        "auc = roc_auc_score(valid_label, predict)\n",
        "print(\"ROC AUC score : \",auc)"
      ]
    },
    {
      "cell_type": "code",
      "execution_count": 33,
      "metadata": {
        "id": "PW5a3oMa-aQo"
      },
      "outputs": [],
      "source": [
        "valid_label = [int(i) for i in valid_label]\n",
        "predict = [int(i) for i in predict]"
      ]
    },
    {
      "cell_type": "code",
      "execution_count": 34,
      "metadata": {
        "colab": {
          "base_uri": "https://localhost:8080/",
          "height": 404
        },
        "id": "3G3s5V3I-hDC",
        "outputId": "952f8c3f-fb12-423f-809f-37328850157e"
      },
      "outputs": [
        {
          "output_type": "display_data",
          "data": {
            "image/png": "[encoded data removed]",
            "text/plain": [
              "<Figure size 432x432 with 1 Axes>"
            ]
          },
          "metadata": {
            "needs_background": "light"
          }
        }
      ],
      "source": [
        "lr_fpr, lr_tpr, _ = roc_curve(valid_label, predict)\n",
        "plt.subplots(1, figsize=(6,6))\n",
        "plt.title('ROC curve of the model')\n",
        "plt.plot(lr_fpr, lr_tpr)\n",
        "plt.plot([0, 1], ls=\"--\")\n",
        "plt.plot([0, 0], [1, 0] , c=\".7\"), plt.plot([1, 1] , c=\".7\")\n",
        "plt.ylabel('True Positive Rate')\n",
        "plt.xlabel('False Positive Rate')\n",
        "plt.show()"
      ]
    }
  ],
  "metadata": {
    "accelerator": "GPU",
    "colab": {
      "collapsed_sections": [],
      "machine_shape": "hm",
      "name": "OpticalFlow+CNN.ipynb",
      "provenance": []
    },
    "kernelspec": {
      "display_name": "Python 3",
      "name": "python3"
    },
    "language_info": {
      "name": "python"
    }
  },
  "nbformat": 4,
  "nbformat_minor": 0
}